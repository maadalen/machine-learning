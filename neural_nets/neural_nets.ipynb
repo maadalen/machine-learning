{
 "cells": [
  {
   "cell_type": "markdown",
   "metadata": {},
   "source": [
    "# Neural Networks for MNIST dataset"
   ]
  },
  {
   "cell_type": "markdown",
   "metadata": {},
   "source": [
    "## Loading data"
   ]
  },
  {
   "cell_type": "code",
   "execution_count": 1,
   "metadata": {
    "collapsed": true
   },
   "outputs": [
    {
     "name": "stderr",
     "output_type": "stream",
     "text": [
      "Using Theano backend.\n"
     ]
    }
   ],
   "source": [
    "import numpy as np\n",
    "from keras.models import Sequential\n",
    "from keras.layers import Dense\n",
    "from keras.layers import Dropout\n",
    "from keras.utils import np_utils\n",
    "from keras.datasets import mnist"
   ]
  },
  {
   "cell_type": "code",
   "execution_count": 2,
   "metadata": {
    "collapsed": false
   },
   "outputs": [],
   "source": [
    "seed = 7\n",
    "np.random.seed(seed)"
   ]
  },
  {
   "cell_type": "code",
   "execution_count": 3,
   "metadata": {
    "collapsed": true
   },
   "outputs": [],
   "source": [
    "(X_train, Y_train), (X_test, Y_test) = mnist.load_data()"
   ]
  },
  {
   "cell_type": "code",
   "execution_count": 4,
   "metadata": {
    "collapsed": true
   },
   "outputs": [
    {
     "data": {
      "text/plain": [
       "(60000, 28, 28)"
      ]
     },
     "execution_count": 4,
     "metadata": {},
     "output_type": "execute_result"
    }
   ],
   "source": [
    "X_train.shape"
   ]
  },
  {
   "cell_type": "code",
   "execution_count": 5,
   "metadata": {
    "collapsed": false
   },
   "outputs": [],
   "source": [
    "%matplotlib inline"
   ]
  },
  {
   "cell_type": "code",
   "execution_count": 6,
   "metadata": {
    "collapsed": false
   },
   "outputs": [],
   "source": [
    "# flatten 28*28 images to a 784 vector for each image\n",
    "num_pixels = X_train.shape[1] * X_train.shape[2]\n",
    "X_train = X_train.reshape(X_train.shape[0], num_pixels).astype('float32')\n",
    "X_test = X_test.reshape(X_test.shape[0], num_pixels).astype('float32')"
   ]
  },
  {
   "cell_type": "code",
   "execution_count": 7,
   "metadata": {
    "collapsed": false
   },
   "outputs": [],
   "source": [
    "# normalize inputs from 0-255 to 0-1\n",
    "X_train = X_train / 255\n",
    "X_test = X_test / 255"
   ]
  },
  {
   "cell_type": "code",
   "execution_count": 8,
   "metadata": {
    "collapsed": true
   },
   "outputs": [],
   "source": [
    "# one hot encode outputs\n",
    "Y_train = np_utils.to_categorical(Y_train)\n",
    "Y_test = np_utils.to_categorical(Y_test)\n",
    "num_classes = Y_test.shape[1]"
   ]
  },
  {
   "cell_type": "markdown",
   "metadata": {},
   "source": [
    "## Part 2.1 - Tuning Learning Rates"
   ]
  },
  {
   "cell_type": "code",
   "execution_count": 9,
   "metadata": {
    "collapsed": true
   },
   "outputs": [],
   "source": [
    "from keras.models import Sequential\n",
    "from keras.layers import Dense, Activation"
   ]
  },
  {
   "cell_type": "code",
   "execution_count": 25,
   "metadata": {
    "collapsed": true
   },
   "outputs": [
    {
     "name": "stdout",
     "output_type": "stream",
     "text": [
      "Learning Rate: 1 , Validation Accuracy: 0.0892\n",
      "Learning Rate: 0.1 , Validation Accuracy: 0.2134\n",
      "Learning Rate: 0.01 , Validation Accuracy: 0.9692\n",
      "Learning Rate: 0.001 , Validation Accuracy: 0.9798\n",
      "Learning Rate: 0.0001 , Validation Accuracy: 0.9555\n",
      "Learning Rate: 1e-05 , Validation Accuracy: 0.8966\n"
     ]
    }
   ],
   "source": [
    "M = 300\n",
    "\n",
    "learning_rates = [1, 0.1, 0.01, 0.001, 0.0001, 0.00001]\n",
    "\n",
    "for index, learning_rate in enumerate(learning_rates):\n",
    "    model1 = Sequential()\n",
    "    model1.add(Dense(M, input_dim=num_pixels, init='normal', activation='relu'))\n",
    "    model1.add(Dense(10, activation='softmax'))\n",
    "    model1.compile(optimizer='adam',\n",
    "               loss='categorical_crossentropy',\n",
    "               metrics=['accuracy'])\n",
    "    \n",
    "    model1.optimizer.lr.set_value(learning_rate)\n",
    "    \n",
    "    model1.fit(X_train, Y_train, validation_data=(X_test, Y_test), nb_epoch=10, batch_size=200, verbose=0)\n",
    "    \n",
    "    scores = model1.evaluate(X_test, Y_test, verbose=0)\n",
    "    \n",
    "    print \"Learning Rate:\", learning_rate, \", Validation Accuracy:\", scores[1]"
   ]
  },
  {
   "cell_type": "markdown",
   "metadata": {},
   "source": [
    "### 0.01 and 0.001 were the best learning rates. We will interpolate between these values and find the best learning rate to use:"
   ]
  },
  {
   "cell_type": "code",
   "execution_count": 29,
   "metadata": {
    "collapsed": true
   },
   "outputs": [
    {
     "name": "stdout",
     "output_type": "stream",
     "text": [
      "Learning Rate: 0.001 , Validation Accuracy: 0.979\n",
      "Learning Rate: 0.002 , Validation Accuracy: 0.9784\n",
      "Learning Rate: 0.003 , Validation Accuracy: 0.9762\n",
      "Learning Rate: 0.004 , Validation Accuracy: 0.977\n",
      "Learning Rate: 0.005 , Validation Accuracy: 0.9789\n",
      "Learning Rate: 0.006 , Validation Accuracy: 0.9764\n",
      "Learning Rate: 0.007 , Validation Accuracy: 0.9721\n",
      "Learning Rate: 0.008 , Validation Accuracy: 0.9787\n",
      "Learning Rate: 0.009 , Validation Accuracy: 0.9752\n"
     ]
    }
   ],
   "source": [
    "new_learning_rates = np.arange(0.001, 0.01, 0.001).astype('float32')\n",
    "\n",
    "for index, learning_rate in enumerate(new_learning_rates):\n",
    "    model1 = Sequential()\n",
    "    model1.add(Dense(M, input_dim=num_pixels, init='normal', activation='relu'))\n",
    "    model1.add(Dense(10, activation='softmax'))\n",
    "    model1.compile(optimizer='adam',\n",
    "               loss='categorical_crossentropy',\n",
    "               metrics=['accuracy'])\n",
    "    \n",
    "    model1.optimizer.lr.set_value(learning_rate)\n",
    "    \n",
    "    model1.fit(X_train, Y_train, validation_data=(X_test, Y_test), nb_epoch=10, batch_size=200, verbose=0)\n",
    "    \n",
    "    scores = model1.evaluate(X_test, Y_test, verbose=0)\n",
    "    \n",
    "    print \"Learning Rate:\", learning_rate, \", Validation Accuracy:\", scores[1]"
   ]
  },
  {
   "cell_type": "markdown",
   "metadata": {},
   "source": [
    "### Since the validation accuracy drops off from learning rate = 0.001 onwards, we will interpolate between 0.0001 and 0.001 instead:"
   ]
  },
  {
   "cell_type": "code",
   "execution_count": 30,
   "metadata": {
    "collapsed": true
   },
   "outputs": [
    {
     "name": "stdout",
     "output_type": "stream",
     "text": [
      "Learning Rate: 0.0001 , Validation Accuracy: 0.9557\n",
      "Learning Rate: 0.0002 , Validation Accuracy: 0.9692\n",
      "Learning Rate: 0.0003 , Validation Accuracy: 0.9751\n",
      "Learning Rate: 0.0004 , Validation Accuracy: 0.9765\n",
      "Learning Rate: 0.0005 , Validation Accuracy: 0.978\n",
      "Learning Rate: 0.0006 , Validation Accuracy: 0.9774\n",
      "Learning Rate: 0.0007 , Validation Accuracy: 0.9802\n",
      "Learning Rate: 0.0008 , Validation Accuracy: 0.98\n",
      "Learning Rate: 0.0009 , Validation Accuracy: 0.9787\n"
     ]
    }
   ],
   "source": [
    "new_learning_rates = np.arange(0.0001, 0.001, 0.0001).astype('float32')\n",
    "\n",
    "for index, learning_rate in enumerate(new_learning_rates):\n",
    "    model1 = Sequential()\n",
    "    model1.add(Dense(M, input_dim=num_pixels, init='normal', activation='relu'))\n",
    "    model1.add(Dense(10, activation='softmax'))\n",
    "    model1.compile(optimizer='adam',\n",
    "               loss='categorical_crossentropy',\n",
    "               metrics=['accuracy'])\n",
    "    \n",
    "    model1.optimizer.lr.set_value(learning_rate)\n",
    "    \n",
    "    model1.fit(X_train, Y_train, validation_data=(X_test, Y_test), nb_epoch=10, batch_size=200, verbose=0)\n",
    "    \n",
    "    scores = model1.evaluate(X_test, Y_test, verbose=0)\n",
    "    \n",
    "    print \"Learning Rate:\", learning_rate, \", Validation Accuracy:\", scores[1]"
   ]
  },
  {
   "cell_type": "markdown",
   "metadata": {},
   "source": [
    "## Part 2.2 - Tuning Hidden Layer Size"
   ]
  },
  {
   "cell_type": "code",
   "execution_count": 33,
   "metadata": {
    "collapsed": false
   },
   "outputs": [],
   "source": [
    "def get_model(lr=0.001, M=300):\n",
    "    model = Sequential()\n",
    "    model.add(Dense(M, input_dim=num_pixels, init='normal', activation='relu'))\n",
    "    model.add(Dense(10, activation='softmax'))\n",
    "    model.compile(optimizer='adam',\n",
    "               loss='categorical_crossentropy',\n",
    "               metrics=['accuracy'])\n",
    "    model.optimizer.lr.set_value(lr)\n",
    "    return model"
   ]
  },
  {
   "cell_type": "code",
   "execution_count": 34,
   "metadata": {
    "collapsed": false
   },
   "outputs": [],
   "source": [
    "hidden_sizes = [10, 50, 100, 300, 1000, 2000]"
   ]
  },
  {
   "cell_type": "code",
   "execution_count": 37,
   "metadata": {
    "collapsed": true
   },
   "outputs": [
    {
     "name": "stdout",
     "output_type": "stream",
     "text": [
      "Train on 60000 samples, validate on 10000 samples\n",
      "Epoch 1/10\n",
      "0s - loss: 0.5084 - acc: 0.8476 - val_loss: 0.3366 - val_acc: 0.9024\n",
      "Epoch 2/10\n",
      "0s - loss: 0.3274 - acc: 0.9075 - val_loss: 0.3168 - val_acc: 0.9115\n",
      "Epoch 3/10\n",
      "0s - loss: 0.3090 - acc: 0.9129 - val_loss: 0.3168 - val_acc: 0.9098\n",
      "Epoch 4/10\n",
      "0s - loss: 0.3014 - acc: 0.9148 - val_loss: 0.3057 - val_acc: 0.9126\n",
      "Epoch 5/10\n",
      "0s - loss: 0.2954 - acc: 0.9168 - val_loss: 0.3051 - val_acc: 0.9087\n",
      "Epoch 6/10\n",
      "0s - loss: 0.2890 - acc: 0.9180 - val_loss: 0.3122 - val_acc: 0.9097\n",
      "Epoch 7/10\n",
      "0s - loss: 0.2860 - acc: 0.9175 - val_loss: 0.3090 - val_acc: 0.9106\n",
      "Epoch 8/10\n",
      "0s - loss: 0.2814 - acc: 0.9197 - val_loss: 0.3143 - val_acc: 0.9096\n",
      "Epoch 9/10\n",
      "0s - loss: 0.2794 - acc: 0.9201 - val_loss: 0.3132 - val_acc: 0.9069\n",
      "Epoch 10/10\n",
      "0s - loss: 0.2766 - acc: 0.9205 - val_loss: 0.3016 - val_acc: 0.9139\n",
      "Hidden Layer Size: 10 , Validation Accuracy: 0.9139\n",
      "Train on 60000 samples, validate on 10000 samples\n",
      "Epoch 1/10\n",
      "0s - loss: 0.2652 - acc: 0.9211 - val_loss: 0.1392 - val_acc: 0.9577\n",
      "Epoch 2/10\n",
      "0s - loss: 0.1311 - acc: 0.9610 - val_loss: 0.1296 - val_acc: 0.9620\n",
      "Epoch 3/10\n",
      "0s - loss: 0.1007 - acc: 0.9689 - val_loss: 0.1120 - val_acc: 0.9653\n",
      "Epoch 4/10\n",
      "0s - loss: 0.0853 - acc: 0.9738 - val_loss: 0.1145 - val_acc: 0.9676\n",
      "Epoch 5/10\n",
      "0s - loss: 0.0775 - acc: 0.9760 - val_loss: 0.1079 - val_acc: 0.9701\n",
      "Epoch 6/10\n",
      "0s - loss: 0.0640 - acc: 0.9799 - val_loss: 0.1310 - val_acc: 0.9650\n",
      "Epoch 7/10\n",
      "0s - loss: 0.0648 - acc: 0.9797 - val_loss: 0.1306 - val_acc: 0.9643\n",
      "Epoch 8/10\n",
      "0s - loss: 0.0581 - acc: 0.9813 - val_loss: 0.1525 - val_acc: 0.9626\n",
      "Epoch 9/10\n",
      "0s - loss: 0.0560 - acc: 0.9816 - val_loss: 0.1422 - val_acc: 0.9669\n",
      "Epoch 10/10\n",
      "0s - loss: 0.0505 - acc: 0.9845 - val_loss: 0.1590 - val_acc: 0.9646\n",
      "Hidden Layer Size: 50 , Validation Accuracy: 0.9646\n",
      "Train on 60000 samples, validate on 10000 samples\n",
      "Epoch 1/10\n",
      "0s - loss: 0.2349 - acc: 0.9300 - val_loss: 0.1254 - val_acc: 0.9626\n",
      "Epoch 2/10\n",
      "0s - loss: 0.1102 - acc: 0.9672 - val_loss: 0.1047 - val_acc: 0.9685\n",
      "Epoch 3/10\n",
      "0s - loss: 0.0820 - acc: 0.9748 - val_loss: 0.0987 - val_acc: 0.9724\n",
      "Epoch 4/10\n",
      "0s - loss: 0.0663 - acc: 0.9792 - val_loss: 0.0915 - val_acc: 0.9725\n",
      "Epoch 5/10\n",
      "0s - loss: 0.0547 - acc: 0.9829 - val_loss: 0.0975 - val_acc: 0.9732\n",
      "Epoch 6/10\n",
      "0s - loss: 0.0569 - acc: 0.9821 - val_loss: 0.1375 - val_acc: 0.9689\n",
      "Epoch 7/10\n",
      "0s - loss: 0.0518 - acc: 0.9840 - val_loss: 0.1160 - val_acc: 0.9731\n",
      "Epoch 8/10\n",
      "0s - loss: 0.0440 - acc: 0.9859 - val_loss: 0.1238 - val_acc: 0.9715\n",
      "Epoch 9/10\n",
      "0s - loss: 0.0474 - acc: 0.9862 - val_loss: 0.1206 - val_acc: 0.9751\n",
      "Epoch 10/10\n",
      "0s - loss: 0.0370 - acc: 0.9886 - val_loss: 0.1354 - val_acc: 0.9712\n",
      "Hidden Layer Size: 100 , Validation Accuracy: 0.9712\n",
      "Train on 60000 samples, validate on 10000 samples\n",
      "Epoch 1/10\n",
      "1s - loss: 0.2062 - acc: 0.9372 - val_loss: 0.1145 - val_acc: 0.9635\n",
      "Epoch 2/10\n",
      "1s - loss: 0.0954 - acc: 0.9699 - val_loss: 0.1188 - val_acc: 0.9652\n",
      "Epoch 3/10\n",
      "1s - loss: 0.0714 - acc: 0.9777 - val_loss: 0.1091 - val_acc: 0.9683\n",
      "Epoch 4/10\n",
      "2s - loss: 0.0618 - acc: 0.9809 - val_loss: 0.1157 - val_acc: 0.9701\n",
      "Epoch 5/10\n",
      "2s - loss: 0.0525 - acc: 0.9836 - val_loss: 0.1178 - val_acc: 0.9692\n",
      "Epoch 6/10\n",
      "2s - loss: 0.0570 - acc: 0.9826 - val_loss: 0.0991 - val_acc: 0.9766\n",
      "Epoch 7/10\n",
      "2s - loss: 0.0461 - acc: 0.9859 - val_loss: 0.1212 - val_acc: 0.9729\n",
      "Epoch 8/10\n",
      "2s - loss: 0.0461 - acc: 0.9864 - val_loss: 0.1393 - val_acc: 0.9705\n",
      "Epoch 9/10\n",
      "2s - loss: 0.0470 - acc: 0.9867 - val_loss: 0.1226 - val_acc: 0.9751\n",
      "Epoch 10/10\n",
      "2s - loss: 0.0391 - acc: 0.9889 - val_loss: 0.1184 - val_acc: 0.9794\n",
      "Hidden Layer Size: 300 , Validation Accuracy: 0.9794\n",
      "Train on 60000 samples, validate on 10000 samples\n",
      "Epoch 1/10\n",
      "3s - loss: 0.2133 - acc: 0.9361 - val_loss: 0.1371 - val_acc: 0.9577\n",
      "Epoch 2/10\n",
      "3s - loss: 0.1007 - acc: 0.9699 - val_loss: 0.1087 - val_acc: 0.9692\n",
      "Epoch 3/10\n",
      "6s - loss: 0.0790 - acc: 0.9768 - val_loss: 0.0937 - val_acc: 0.9744\n",
      "Epoch 4/10\n",
      "8s - loss: 0.0638 - acc: 0.9811 - val_loss: 0.1092 - val_acc: 0.9733\n",
      "Epoch 5/10\n",
      "9s - loss: 0.0610 - acc: 0.9823 - val_loss: 0.1747 - val_acc: 0.9646\n",
      "Epoch 6/10\n",
      "9s - loss: 0.0688 - acc: 0.9816 - val_loss: 0.1216 - val_acc: 0.9735\n",
      "Epoch 7/10\n",
      "10s - loss: 0.0493 - acc: 0.9867 - val_loss: 0.1062 - val_acc: 0.9785\n",
      "Epoch 8/10\n",
      "11s - loss: 0.0431 - acc: 0.9882 - val_loss: 0.1336 - val_acc: 0.9745\n",
      "Epoch 9/10\n",
      "11s - loss: 0.0473 - acc: 0.9871 - val_loss: 0.1527 - val_acc: 0.9764\n",
      "Epoch 10/10\n",
      "12s - loss: 0.0436 - acc: 0.9887 - val_loss: 0.1314 - val_acc: 0.9773\n",
      "Hidden Layer Size: 1000 , Validation Accuracy: 0.9773\n",
      "Train on 60000 samples, validate on 10000 samples\n",
      "Epoch 1/10\n",
      "6s - loss: 0.3087 - acc: 0.9287 - val_loss: 0.1230 - val_acc: 0.9617\n",
      "Epoch 2/10\n",
      "6s - loss: 0.1004 - acc: 0.9695 - val_loss: 0.1091 - val_acc: 0.9660\n",
      "Epoch 3/10\n",
      "19s - loss: 0.0762 - acc: 0.9774 - val_loss: 0.1034 - val_acc: 0.9726\n",
      "Epoch 4/10\n",
      "23s - loss: 0.0696 - acc: 0.9793 - val_loss: 0.1329 - val_acc: 0.9667\n",
      "Epoch 5/10\n",
      "24s - loss: 0.0652 - acc: 0.9817 - val_loss: 0.1136 - val_acc: 0.9736\n",
      "Epoch 6/10\n",
      "25s - loss: 0.0528 - acc: 0.9852 - val_loss: 0.1370 - val_acc: 0.9736\n",
      "Epoch 7/10\n",
      "25s - loss: 0.0598 - acc: 0.9835 - val_loss: 0.1434 - val_acc: 0.9707\n",
      "Epoch 8/10\n",
      "27s - loss: 0.0489 - acc: 0.9870 - val_loss: 0.1285 - val_acc: 0.9760\n",
      "Epoch 9/10\n",
      "27s - loss: 0.0486 - acc: 0.9876 - val_loss: 0.1608 - val_acc: 0.9703\n",
      "Epoch 10/10\n",
      "28s - loss: 0.0528 - acc: 0.9868 - val_loss: 0.1593 - val_acc: 0.9741\n",
      "Hidden Layer Size: 2000 , Validation Accuracy: 0.9741\n"
     ]
    }
   ],
   "source": [
    "for hidden_layer_size in hidden_sizes:\n",
    "    \n",
    "    model = get_model(lr=0.01, M = hidden_layer_size)\n",
    "    model.fit(X_train, Y_train, validation_data=(X_test, Y_test), nb_epoch=10, batch_size=200, verbose=2)\n",
    "    \n",
    "    scores = model.evaluate(X_test, Y_test, verbose=0)\n",
    "    \n",
    "    print \"Hidden Layer Size:\", hidden_layer_size, \", Validation Accuracy:\", scores[1]\n",
    "    "
   ]
  },
  {
   "cell_type": "code",
   "execution_count": null,
   "metadata": {
    "collapsed": false
   },
   "outputs": [],
   "source": []
  },
  {
   "cell_type": "markdown",
   "metadata": {},
   "source": [
    "## Part 2.3 - L2 Weight Decay"
   ]
  },
  {
   "cell_type": "code",
   "execution_count": 38,
   "metadata": {
    "collapsed": false
   },
   "outputs": [],
   "source": [
    "from keras.regularizers import l2\n",
    "\n",
    "def get_reg_model(lr=0.001, M=300, w=0.1):\n",
    "    model = Sequential()\n",
    "    model.add(Dense(M, input_dim=num_pixels, init='normal', activation='relu', W_regularizer=l2(w)))\n",
    "    model.add(Dense(10, activation='softmax'))\n",
    "    model.compile(optimizer='adam',\n",
    "               loss='categorical_crossentropy',\n",
    "               metrics=['accuracy'])\n",
    "    model.optimizer.lr.set_value(lr)\n",
    "    return model"
   ]
  },
  {
   "cell_type": "code",
   "execution_count": 39,
   "metadata": {
    "collapsed": false
   },
   "outputs": [],
   "source": [
    "models = [get_model(lr = 0.01, M = 300), get_model(lr = 0.001, M = 300), get_reg_model(lr=0.001, M = 300, w = 0.002)]"
   ]
  },
  {
   "cell_type": "markdown",
   "metadata": {},
   "source": [
    "## Model 1 - Learning Rate = 0.01, M = 300 "
   ]
  },
  {
   "cell_type": "code",
   "execution_count": 41,
   "metadata": {
    "collapsed": true
   },
   "outputs": [
    {
     "name": "stdout",
     "output_type": "stream",
     "text": [
      "Train on 60000 samples, validate on 10000 samples\n",
      "Epoch 1/10\n",
      "1s - loss: 0.2199 - acc: 0.9328 - val_loss: 0.1084 - val_acc: 0.9675\n",
      "Epoch 2/10\n",
      "1s - loss: 0.0975 - acc: 0.9700 - val_loss: 0.0971 - val_acc: 0.9691\n",
      "Epoch 3/10\n",
      "1s - loss: 0.0723 - acc: 0.9778 - val_loss: 0.1060 - val_acc: 0.9708\n",
      "Epoch 4/10\n",
      "2s - loss: 0.0617 - acc: 0.9809 - val_loss: 0.1101 - val_acc: 0.9696\n",
      "Epoch 5/10\n",
      "2s - loss: 0.0563 - acc: 0.9821 - val_loss: 0.1200 - val_acc: 0.9691\n",
      "Epoch 6/10\n",
      "2s - loss: 0.0470 - acc: 0.9855 - val_loss: 0.1303 - val_acc: 0.9703\n",
      "Epoch 7/10\n",
      "2s - loss: 0.0522 - acc: 0.9848 - val_loss: 0.1537 - val_acc: 0.9680\n",
      "Epoch 8/10\n",
      "2s - loss: 0.0524 - acc: 0.9846 - val_loss: 0.1307 - val_acc: 0.9718\n",
      "Epoch 9/10\n",
      "2s - loss: 0.0421 - acc: 0.9880 - val_loss: 0.1585 - val_acc: 0.9707\n",
      "Epoch 10/10\n",
      "2s - loss: 0.0496 - acc: 0.9870 - val_loss: 0.1745 - val_acc: 0.9693\n",
      "Validation Accuracy: 0.9693\n"
     ]
    }
   ],
   "source": [
    "    model = models[0]\n",
    "    model.fit(X_train, Y_train, validation_data=(X_test, Y_test), nb_epoch=10, batch_size=200, verbose=2)\n",
    "    \n",
    "    scores = model.evaluate(X_test, Y_test, verbose=0)\n",
    "    \n",
    "    print  \"Validation Accuracy:\", scores[1]"
   ]
  },
  {
   "cell_type": "markdown",
   "metadata": {},
   "source": [
    "## Model 2 - Learning Rate = 0.001, M = 300 "
   ]
  },
  {
   "cell_type": "code",
   "execution_count": 42,
   "metadata": {
    "collapsed": true
   },
   "outputs": [
    {
     "name": "stdout",
     "output_type": "stream",
     "text": [
      "Train on 60000 samples, validate on 10000 samples\n",
      "Epoch 1/10\n",
      "1s - loss: 0.3422 - acc: 0.9045 - val_loss: 0.1766 - val_acc: 0.9482\n",
      "Epoch 2/10\n",
      "1s - loss: 0.1468 - acc: 0.9588 - val_loss: 0.1219 - val_acc: 0.9653\n",
      "Epoch 3/10\n",
      "1s - loss: 0.1016 - acc: 0.9709 - val_loss: 0.0974 - val_acc: 0.9700\n",
      "Epoch 4/10\n",
      "1s - loss: 0.0772 - acc: 0.9774 - val_loss: 0.0828 - val_acc: 0.9745\n",
      "Epoch 5/10\n",
      "1s - loss: 0.0586 - acc: 0.9833 - val_loss: 0.0779 - val_acc: 0.9768\n",
      "Epoch 6/10\n",
      "1s - loss: 0.0472 - acc: 0.9867 - val_loss: 0.0695 - val_acc: 0.9779\n",
      "Epoch 7/10\n",
      "1s - loss: 0.0382 - acc: 0.9897 - val_loss: 0.0662 - val_acc: 0.9804\n",
      "Epoch 8/10\n",
      "1s - loss: 0.0311 - acc: 0.9917 - val_loss: 0.0673 - val_acc: 0.9804\n",
      "Epoch 9/10\n",
      "1s - loss: 0.0252 - acc: 0.9934 - val_loss: 0.0649 - val_acc: 0.9806\n",
      "Epoch 10/10\n",
      "1s - loss: 0.0201 - acc: 0.9950 - val_loss: 0.0635 - val_acc: 0.9801\n",
      "Validation Accuracy: 0.9801\n"
     ]
    }
   ],
   "source": [
    "    model = models[1]\n",
    "    model.fit(X_train, Y_train, validation_data=(X_test, Y_test), nb_epoch=10, batch_size=200, verbose=2)\n",
    "    \n",
    "    scores = model.evaluate(X_test, Y_test, verbose=0)\n",
    "    \n",
    "    print  \"Validation Accuracy:\", scores[1]"
   ]
  },
  {
   "cell_type": "markdown",
   "metadata": {},
   "source": [
    "## Model 3 - Learning Rate = 0.001, M = 300, w = 0.002, and epochs = 30\n",
    "\n"
   ]
  },
  {
   "cell_type": "code",
   "execution_count": 44,
   "metadata": {
    "collapsed": true
   },
   "outputs": [
    {
     "name": "stdout",
     "output_type": "stream",
     "text": [
      "Train on 60000 samples, validate on 10000 samples\n",
      "Epoch 1/30\n",
      "1s - loss: 0.7699 - acc: 0.9021 - val_loss: 0.3846 - val_acc: 0.9438\n",
      "Epoch 2/30\n",
      "1s - loss: 0.3231 - acc: 0.9479 - val_loss: 0.2632 - val_acc: 0.9548\n",
      "Epoch 3/30\n",
      "1s - loss: 0.2548 - acc: 0.9564 - val_loss: 0.2336 - val_acc: 0.9605\n",
      "Epoch 4/30\n",
      "1s - loss: 0.2233 - acc: 0.9624 - val_loss: 0.2141 - val_acc: 0.9637\n",
      "Epoch 5/30\n",
      "1s - loss: 0.2092 - acc: 0.9653 - val_loss: 0.1968 - val_acc: 0.9688\n",
      "Epoch 6/30\n",
      "2s - loss: 0.1971 - acc: 0.9674 - val_loss: 0.1859 - val_acc: 0.9700\n",
      "Epoch 7/30\n",
      "2s - loss: 0.1889 - acc: 0.9699 - val_loss: 0.1881 - val_acc: 0.9667\n",
      "Epoch 8/30\n",
      "2s - loss: 0.1809 - acc: 0.9707 - val_loss: 0.1754 - val_acc: 0.9722\n",
      "Epoch 9/30\n",
      "2s - loss: 0.1762 - acc: 0.9710 - val_loss: 0.1743 - val_acc: 0.9704\n",
      "Epoch 10/30\n",
      "2s - loss: 0.1700 - acc: 0.9725 - val_loss: 0.1649 - val_acc: 0.9727\n",
      "Epoch 11/30\n",
      "2s - loss: 0.1643 - acc: 0.9741 - val_loss: 0.1664 - val_acc: 0.9736\n",
      "Epoch 12/30\n",
      "2s - loss: 0.1618 - acc: 0.9745 - val_loss: 0.1590 - val_acc: 0.9747\n",
      "Epoch 13/30\n",
      "2s - loss: 0.1569 - acc: 0.9754 - val_loss: 0.1631 - val_acc: 0.9744\n",
      "Epoch 14/30\n",
      "2s - loss: 0.1547 - acc: 0.9750 - val_loss: 0.1550 - val_acc: 0.9759\n",
      "Epoch 15/30\n",
      "2s - loss: 0.1523 - acc: 0.9759 - val_loss: 0.1654 - val_acc: 0.9700\n",
      "Epoch 16/30\n",
      "2s - loss: 0.1476 - acc: 0.9777 - val_loss: 0.1563 - val_acc: 0.9724\n",
      "Epoch 17/30\n",
      "3s - loss: 0.1477 - acc: 0.9764 - val_loss: 0.1548 - val_acc: 0.9752\n",
      "Epoch 18/30\n",
      "3s - loss: 0.1426 - acc: 0.9778 - val_loss: 0.1462 - val_acc: 0.9777\n",
      "Epoch 19/30\n",
      "3s - loss: 0.1380 - acc: 0.9795 - val_loss: 0.1465 - val_acc: 0.9766\n",
      "Epoch 20/30\n",
      "3s - loss: 0.1399 - acc: 0.9780 - val_loss: 0.1486 - val_acc: 0.9744\n",
      "Epoch 21/30\n",
      "3s - loss: 0.1349 - acc: 0.9798 - val_loss: 0.1438 - val_acc: 0.9772\n",
      "Epoch 22/30\n",
      "3s - loss: 0.1339 - acc: 0.9796 - val_loss: 0.1457 - val_acc: 0.9749\n",
      "Epoch 23/30\n",
      "4s - loss: 0.1325 - acc: 0.9798 - val_loss: 0.1427 - val_acc: 0.9762\n",
      "Epoch 24/30\n",
      "4s - loss: 0.1295 - acc: 0.9809 - val_loss: 0.1432 - val_acc: 0.9764\n",
      "Epoch 25/30\n",
      "4s - loss: 0.1298 - acc: 0.9806 - val_loss: 0.1420 - val_acc: 0.9741\n",
      "Epoch 26/30\n",
      "4s - loss: 0.1288 - acc: 0.9803 - val_loss: 0.1462 - val_acc: 0.9762\n",
      "Epoch 27/30\n",
      "5s - loss: 0.1291 - acc: 0.9801 - val_loss: 0.1388 - val_acc: 0.9770\n",
      "Epoch 28/30\n",
      "5s - loss: 0.1243 - acc: 0.9817 - val_loss: 0.1365 - val_acc: 0.9773\n",
      "Epoch 29/30\n",
      "5s - loss: 0.1244 - acc: 0.9816 - val_loss: 0.1381 - val_acc: 0.9772\n",
      "Epoch 30/30\n",
      "6s - loss: 0.1218 - acc: 0.9818 - val_loss: 0.1381 - val_acc: 0.9761\n",
      "Validation Accuracy: 0.9761\n"
     ]
    }
   ],
   "source": [
    "    model = models[2]\n",
    "    model.fit(X_train, Y_train, validation_data=(X_test, Y_test), nb_epoch=30, batch_size=200, verbose=2)\n",
    "    \n",
    "    scores = model.evaluate(X_test, Y_test, verbose=0)\n",
    "    \n",
    "    print  \"Validation Accuracy:\", scores[1]"
   ]
  },
  {
   "cell_type": "code",
   "execution_count": null,
   "metadata": {
    "collapsed": false
   },
   "outputs": [],
   "source": []
  },
  {
   "cell_type": "code",
   "execution_count": null,
   "metadata": {
    "collapsed": false
   },
   "outputs": [],
   "source": []
  },
  {
   "cell_type": "markdown",
   "metadata": {},
   "source": [
    "## Part 2.4 - Models with Dropout"
   ]
  },
  {
   "cell_type": "code",
   "execution_count": 63,
   "metadata": {
    "collapsed": true
   },
   "outputs": [],
   "source": [
    "def get_dropout_model(lr=0.001, M=300, w=0.2):\n",
    "    model = Sequential()\n",
    "    model.add(Dense(M, input_dim=num_pixels, init='normal', activation='relu'))\n",
    "    model.add(Dropout(w))\n",
    "    model.add(Dense(10, activation='softmax'))\n",
    "    model.compile(optimizer='adam',\n",
    "               loss='categorical_crossentropy',\n",
    "               metrics=['accuracy'])\n",
    "    model.optimizer.lr.set_value(lr)\n",
    "    return model"
   ]
  },
  {
   "cell_type": "code",
   "execution_count": 69,
   "metadata": {
    "collapsed": true
   },
   "outputs": [],
   "source": [
    "dropouts = [ i/10.0 for i in range(1,11,1)]"
   ]
  },
  {
   "cell_type": "code",
   "execution_count": 70,
   "metadata": {
    "collapsed": true
   },
   "outputs": [
    {
     "data": {
      "text/plain": [
       "[0.1, 0.2, 0.3, 0.4, 0.5, 0.6, 0.7, 0.8, 0.9, 1.0]"
      ]
     },
     "execution_count": 70,
     "metadata": {},
     "output_type": "execute_result"
    }
   ],
   "source": [
    "dropouts"
   ]
  },
  {
   "cell_type": "code",
   "execution_count": 71,
   "metadata": {
    "collapsed": true
   },
   "outputs": [
    {
     "name": "stdout",
     "output_type": "stream",
     "text": [
      "Train on 60000 samples, validate on 10000 samples\n",
      "Epoch 1/30\n",
      "1s - loss: 0.3544 - acc: 0.8999 - val_loss: 0.1779 - val_acc: 0.9485\n",
      "Epoch 2/30\n",
      "1s - loss: 0.1535 - acc: 0.9563 - val_loss: 0.1222 - val_acc: 0.9632\n",
      "Epoch 3/30\n",
      "1s - loss: 0.1080 - acc: 0.9690 - val_loss: 0.0963 - val_acc: 0.9695\n",
      "Epoch 4/30\n",
      "1s - loss: 0.0828 - acc: 0.9759 - val_loss: 0.0875 - val_acc: 0.9728\n",
      "Epoch 5/30\n",
      "1s - loss: 0.0669 - acc: 0.9813 - val_loss: 0.0782 - val_acc: 0.9765\n",
      "Epoch 6/30\n",
      "1s - loss: 0.0558 - acc: 0.9835 - val_loss: 0.0684 - val_acc: 0.9780\n",
      "Epoch 7/30\n",
      "1s - loss: 0.0460 - acc: 0.9870 - val_loss: 0.0680 - val_acc: 0.9782\n",
      "Epoch 8/30\n",
      "1s - loss: 0.0395 - acc: 0.9884 - val_loss: 0.0657 - val_acc: 0.9798\n",
      "Epoch 9/30\n",
      "1s - loss: 0.0333 - acc: 0.9903 - val_loss: 0.0627 - val_acc: 0.9805\n",
      "Epoch 10/30\n",
      "1s - loss: 0.0275 - acc: 0.9925 - val_loss: 0.0625 - val_acc: 0.9806\n",
      "Epoch 11/30\n",
      "1s - loss: 0.0251 - acc: 0.9929 - val_loss: 0.0605 - val_acc: 0.9813\n",
      "Epoch 12/30\n",
      "1s - loss: 0.0217 - acc: 0.9940 - val_loss: 0.0634 - val_acc: 0.9788\n",
      "Epoch 13/30\n",
      "2s - loss: 0.0182 - acc: 0.9950 - val_loss: 0.0590 - val_acc: 0.9820\n",
      "Epoch 14/30\n",
      "2s - loss: 0.0151 - acc: 0.9960 - val_loss: 0.0579 - val_acc: 0.9827\n",
      "Epoch 15/30\n",
      "2s - loss: 0.0147 - acc: 0.9961 - val_loss: 0.0617 - val_acc: 0.9815\n",
      "Epoch 16/30\n",
      "2s - loss: 0.0128 - acc: 0.9967 - val_loss: 0.0612 - val_acc: 0.9818\n",
      "Epoch 17/30\n",
      "1s - loss: 0.0120 - acc: 0.9969 - val_loss: 0.0628 - val_acc: 0.9818\n",
      "Epoch 18/30\n",
      "2s - loss: 0.0103 - acc: 0.9974 - val_loss: 0.0648 - val_acc: 0.9830\n",
      "Epoch 19/30\n",
      "2s - loss: 0.0096 - acc: 0.9975 - val_loss: 0.0655 - val_acc: 0.9824\n",
      "Epoch 20/30\n",
      "2s - loss: 0.0089 - acc: 0.9977 - val_loss: 0.0654 - val_acc: 0.9819\n",
      "Epoch 21/30\n",
      "2s - loss: 0.0077 - acc: 0.9982 - val_loss: 0.0712 - val_acc: 0.9816\n",
      "Epoch 22/30\n",
      "2s - loss: 0.0080 - acc: 0.9978 - val_loss: 0.0661 - val_acc: 0.9831\n",
      "Epoch 23/30\n",
      "2s - loss: 0.0072 - acc: 0.9981 - val_loss: 0.0688 - val_acc: 0.9810\n",
      "Epoch 24/30\n",
      "2s - loss: 0.0065 - acc: 0.9983 - val_loss: 0.0719 - val_acc: 0.9816\n",
      "Epoch 25/30\n",
      "2s - loss: 0.0059 - acc: 0.9986 - val_loss: 0.0658 - val_acc: 0.9834\n",
      "Epoch 26/30\n",
      "2s - loss: 0.0055 - acc: 0.9985 - val_loss: 0.0708 - val_acc: 0.9817\n",
      "Epoch 27/30\n",
      "2s - loss: 0.0060 - acc: 0.9985 - val_loss: 0.0687 - val_acc: 0.9829\n",
      "Epoch 28/30\n",
      "2s - loss: 0.0049 - acc: 0.9987 - val_loss: 0.0686 - val_acc: 0.9829\n",
      "Epoch 29/30\n",
      "2s - loss: 0.0061 - acc: 0.9982 - val_loss: 0.0703 - val_acc: 0.9829\n",
      "Epoch 30/30\n",
      "2s - loss: 0.0051 - acc: 0.9986 - val_loss: 0.0712 - val_acc: 0.9828\n",
      "Dropout: 0.1 , Validation Accuracy: 0.9828\n",
      "Train on 60000 samples, validate on 10000 samples\n",
      "Epoch 1/30\n",
      "1s - loss: 0.3691 - acc: 0.8952 - val_loss: 0.1795 - val_acc: 0.9470\n",
      "Epoch 2/30\n",
      "1s - loss: 0.1633 - acc: 0.9524 - val_loss: 0.1217 - val_acc: 0.9640\n",
      "Epoch 3/30\n",
      "1s - loss: 0.1186 - acc: 0.9655 - val_loss: 0.0986 - val_acc: 0.9697\n",
      "Epoch 4/30\n",
      "1s - loss: 0.0930 - acc: 0.9726 - val_loss: 0.0835 - val_acc: 0.9753\n",
      "Epoch 5/30\n",
      "1s - loss: 0.0767 - acc: 0.9775 - val_loss: 0.0762 - val_acc: 0.9755\n",
      "Epoch 6/30\n",
      "2s - loss: 0.0640 - acc: 0.9810 - val_loss: 0.0688 - val_acc: 0.9781\n",
      "Epoch 7/30\n",
      "2s - loss: 0.0543 - acc: 0.9836 - val_loss: 0.0629 - val_acc: 0.9796\n",
      "Epoch 8/30\n",
      "2s - loss: 0.0473 - acc: 0.9855 - val_loss: 0.0639 - val_acc: 0.9799\n",
      "Epoch 9/30\n",
      "2s - loss: 0.0409 - acc: 0.9880 - val_loss: 0.0601 - val_acc: 0.9803\n",
      "Epoch 10/30\n",
      "2s - loss: 0.0362 - acc: 0.9891 - val_loss: 0.0588 - val_acc: 0.9815\n",
      "Epoch 11/30\n",
      "2s - loss: 0.0324 - acc: 0.9904 - val_loss: 0.0584 - val_acc: 0.9810\n",
      "Epoch 12/30\n",
      "2s - loss: 0.0291 - acc: 0.9914 - val_loss: 0.0549 - val_acc: 0.9822\n",
      "Epoch 13/30\n",
      "2s - loss: 0.0261 - acc: 0.9922 - val_loss: 0.0576 - val_acc: 0.9814\n",
      "Epoch 14/30\n",
      "2s - loss: 0.0222 - acc: 0.9935 - val_loss: 0.0568 - val_acc: 0.9826\n",
      "Epoch 15/30\n",
      "2s - loss: 0.0204 - acc: 0.9940 - val_loss: 0.0548 - val_acc: 0.9825\n",
      "Epoch 16/30\n",
      "2s - loss: 0.0188 - acc: 0.9944 - val_loss: 0.0603 - val_acc: 0.9818\n",
      "Epoch 17/30\n",
      "2s - loss: 0.0168 - acc: 0.9951 - val_loss: 0.0589 - val_acc: 0.9817\n",
      "Epoch 18/30\n",
      "2s - loss: 0.0155 - acc: 0.9955 - val_loss: 0.0566 - val_acc: 0.9828\n",
      "Epoch 19/30\n",
      "2s - loss: 0.0147 - acc: 0.9958 - val_loss: 0.0589 - val_acc: 0.9825\n",
      "Epoch 20/30\n",
      "2s - loss: 0.0132 - acc: 0.9961 - val_loss: 0.0555 - val_acc: 0.9831\n",
      "Epoch 21/30\n",
      "2s - loss: 0.0123 - acc: 0.9964 - val_loss: 0.0579 - val_acc: 0.9835\n",
      "Epoch 22/30\n",
      "2s - loss: 0.0118 - acc: 0.9964 - val_loss: 0.0639 - val_acc: 0.9832\n",
      "Epoch 23/30\n",
      "2s - loss: 0.0104 - acc: 0.9971 - val_loss: 0.0596 - val_acc: 0.9828\n",
      "Epoch 24/30\n",
      "2s - loss: 0.0105 - acc: 0.9969 - val_loss: 0.0590 - val_acc: 0.9836\n",
      "Epoch 25/30\n",
      "2s - loss: 0.0094 - acc: 0.9972 - val_loss: 0.0605 - val_acc: 0.9832\n",
      "Epoch 26/30\n",
      "2s - loss: 0.0089 - acc: 0.9975 - val_loss: 0.0587 - val_acc: 0.9837\n",
      "Epoch 27/30\n",
      "2s - loss: 0.0101 - acc: 0.9970 - val_loss: 0.0679 - val_acc: 0.9830\n",
      "Epoch 28/30\n",
      "2s - loss: 0.0082 - acc: 0.9974 - val_loss: 0.0648 - val_acc: 0.9822\n",
      "Epoch 29/30\n",
      "2s - loss: 0.0082 - acc: 0.9974 - val_loss: 0.0720 - val_acc: 0.9817\n",
      "Epoch 30/30\n",
      "2s - loss: 0.0081 - acc: 0.9976 - val_loss: 0.0681 - val_acc: 0.9836\n",
      "Dropout: 0.2 , Validation Accuracy: 0.9836\n",
      "Train on 60000 samples, validate on 10000 samples\n",
      "Epoch 1/30\n",
      "1s - loss: 0.3847 - acc: 0.8891 - val_loss: 0.1818 - val_acc: 0.9479\n",
      "Epoch 2/30\n",
      "1s - loss: 0.1741 - acc: 0.9497 - val_loss: 0.1250 - val_acc: 0.9641\n",
      "Epoch 3/30\n",
      "1s - loss: 0.1261 - acc: 0.9631 - val_loss: 0.1011 - val_acc: 0.9700\n",
      "Epoch 4/30\n",
      "1s - loss: 0.1016 - acc: 0.9704 - val_loss: 0.0874 - val_acc: 0.9732\n",
      "Epoch 5/30\n",
      "2s - loss: 0.0854 - acc: 0.9746 - val_loss: 0.0755 - val_acc: 0.9773\n",
      "Epoch 6/30\n",
      "2s - loss: 0.0724 - acc: 0.9783 - val_loss: 0.0725 - val_acc: 0.9762\n",
      "Epoch 7/30\n",
      "1s - loss: 0.0637 - acc: 0.9811 - val_loss: 0.0651 - val_acc: 0.9793\n",
      "Epoch 8/30\n",
      "2s - loss: 0.0559 - acc: 0.9831 - val_loss: 0.0629 - val_acc: 0.9801\n",
      "Epoch 9/30\n",
      "2s - loss: 0.0489 - acc: 0.9849 - val_loss: 0.0613 - val_acc: 0.9802\n",
      "Epoch 10/30\n",
      "2s - loss: 0.0456 - acc: 0.9861 - val_loss: 0.0567 - val_acc: 0.9818\n",
      "Epoch 11/30\n",
      "2s - loss: 0.0386 - acc: 0.9884 - val_loss: 0.0598 - val_acc: 0.9818\n",
      "Epoch 12/30\n",
      "2s - loss: 0.0365 - acc: 0.9885 - val_loss: 0.0560 - val_acc: 0.9827\n",
      "Epoch 13/30\n",
      "2s - loss: 0.0322 - acc: 0.9901 - val_loss: 0.0525 - val_acc: 0.9827\n",
      "Epoch 14/30\n",
      "2s - loss: 0.0309 - acc: 0.9906 - val_loss: 0.0558 - val_acc: 0.9825\n",
      "Epoch 15/30\n",
      "2s - loss: 0.0274 - acc: 0.9916 - val_loss: 0.0583 - val_acc: 0.9825\n",
      "Epoch 16/30\n",
      "2s - loss: 0.0257 - acc: 0.9925 - val_loss: 0.0558 - val_acc: 0.9826\n",
      "Epoch 17/30\n",
      "2s - loss: 0.0238 - acc: 0.9925 - val_loss: 0.0576 - val_acc: 0.9817\n",
      "Epoch 18/30\n",
      "1s - loss: 0.0224 - acc: 0.9929 - val_loss: 0.0560 - val_acc: 0.9834\n",
      "Epoch 19/30\n",
      "2s - loss: 0.0202 - acc: 0.9937 - val_loss: 0.0570 - val_acc: 0.9834\n",
      "Epoch 20/30\n",
      "2s - loss: 0.0193 - acc: 0.9940 - val_loss: 0.0577 - val_acc: 0.9834\n",
      "Epoch 21/30\n",
      "2s - loss: 0.0187 - acc: 0.9938 - val_loss: 0.0558 - val_acc: 0.9834\n",
      "Epoch 22/30\n",
      "2s - loss: 0.0169 - acc: 0.9951 - val_loss: 0.0578 - val_acc: 0.9833\n",
      "Epoch 23/30\n",
      "2s - loss: 0.0151 - acc: 0.9950 - val_loss: 0.0580 - val_acc: 0.9836\n",
      "Epoch 24/30\n",
      "2s - loss: 0.0152 - acc: 0.9951 - val_loss: 0.0576 - val_acc: 0.9836\n",
      "Epoch 25/30\n",
      "2s - loss: 0.0139 - acc: 0.9954 - val_loss: 0.0580 - val_acc: 0.9829\n",
      "Epoch 26/30\n",
      "2s - loss: 0.0146 - acc: 0.9953 - val_loss: 0.0600 - val_acc: 0.9826\n",
      "Epoch 27/30\n",
      "2s - loss: 0.0149 - acc: 0.9954 - val_loss: 0.0599 - val_acc: 0.9842\n",
      "Epoch 28/30\n",
      "2s - loss: 0.0121 - acc: 0.9960 - val_loss: 0.0584 - val_acc: 0.9843\n",
      "Epoch 29/30\n",
      "2s - loss: 0.0119 - acc: 0.9961 - val_loss: 0.0597 - val_acc: 0.9841\n",
      "Epoch 30/30\n",
      "2s - loss: 0.0116 - acc: 0.9962 - val_loss: 0.0643 - val_acc: 0.9841\n",
      "Dropout: 0.3 , Validation Accuracy: 0.9841\n",
      "Train on 60000 samples, validate on 10000 samples\n",
      "Epoch 1/30\n",
      "1s - loss: 0.4110 - acc: 0.8815 - val_loss: 0.1877 - val_acc: 0.9458\n",
      "Epoch 2/30\n",
      "1s - loss: 0.1910 - acc: 0.9453 - val_loss: 0.1335 - val_acc: 0.9603\n",
      "Epoch 3/30\n",
      "1s - loss: 0.1437 - acc: 0.9575 - val_loss: 0.1029 - val_acc: 0.9696\n",
      "Epoch 4/30\n",
      "1s - loss: 0.1160 - acc: 0.9667 - val_loss: 0.0880 - val_acc: 0.9734\n",
      "Epoch 5/30\n",
      "2s - loss: 0.0985 - acc: 0.9707 - val_loss: 0.0789 - val_acc: 0.9754\n",
      "Epoch 6/30\n",
      "2s - loss: 0.0867 - acc: 0.9735 - val_loss: 0.0738 - val_acc: 0.9775\n",
      "Epoch 7/30\n",
      "2s - loss: 0.0758 - acc: 0.9771 - val_loss: 0.0688 - val_acc: 0.9785\n",
      "Epoch 8/30\n",
      "2s - loss: 0.0683 - acc: 0.9788 - val_loss: 0.0657 - val_acc: 0.9784\n",
      "Epoch 9/30\n",
      "2s - loss: 0.0627 - acc: 0.9814 - val_loss: 0.0649 - val_acc: 0.9789\n",
      "Epoch 10/30\n",
      "2s - loss: 0.0561 - acc: 0.9818 - val_loss: 0.0640 - val_acc: 0.9805\n",
      "Epoch 11/30\n",
      "2s - loss: 0.0528 - acc: 0.9836 - val_loss: 0.0618 - val_acc: 0.9804\n",
      "Epoch 12/30\n",
      "2s - loss: 0.0489 - acc: 0.9849 - val_loss: 0.0610 - val_acc: 0.9812\n",
      "Epoch 13/30\n",
      "2s - loss: 0.0442 - acc: 0.9862 - val_loss: 0.0560 - val_acc: 0.9827\n",
      "Epoch 14/30\n",
      "2s - loss: 0.0409 - acc: 0.9872 - val_loss: 0.0548 - val_acc: 0.9830\n",
      "Epoch 15/30\n",
      "2s - loss: 0.0367 - acc: 0.9886 - val_loss: 0.0607 - val_acc: 0.9813\n",
      "Epoch 16/30\n",
      "2s - loss: 0.0376 - acc: 0.9877 - val_loss: 0.0583 - val_acc: 0.9824\n",
      "Epoch 17/30\n",
      "2s - loss: 0.0328 - acc: 0.9896 - val_loss: 0.0574 - val_acc: 0.9828\n",
      "Epoch 18/30\n",
      "2s - loss: 0.0322 - acc: 0.9895 - val_loss: 0.0549 - val_acc: 0.9834\n",
      "Epoch 19/30\n",
      "2s - loss: 0.0305 - acc: 0.9900 - val_loss: 0.0561 - val_acc: 0.9834\n",
      "Epoch 20/30\n",
      "2s - loss: 0.0276 - acc: 0.9910 - val_loss: 0.0574 - val_acc: 0.9826\n",
      "Epoch 21/30\n",
      "2s - loss: 0.0284 - acc: 0.9904 - val_loss: 0.0569 - val_acc: 0.9836\n",
      "Epoch 22/30\n",
      "2s - loss: 0.0267 - acc: 0.9912 - val_loss: 0.0592 - val_acc: 0.9829\n",
      "Epoch 23/30\n",
      "2s - loss: 0.0250 - acc: 0.9922 - val_loss: 0.0594 - val_acc: 0.9829\n",
      "Epoch 24/30\n",
      "2s - loss: 0.0242 - acc: 0.9921 - val_loss: 0.0572 - val_acc: 0.9837\n",
      "Epoch 25/30\n",
      "2s - loss: 0.0229 - acc: 0.9922 - val_loss: 0.0589 - val_acc: 0.9839\n",
      "Epoch 26/30\n",
      "2s - loss: 0.0218 - acc: 0.9928 - val_loss: 0.0586 - val_acc: 0.9849\n",
      "Epoch 27/30\n",
      "2s - loss: 0.0227 - acc: 0.9923 - val_loss: 0.0615 - val_acc: 0.9830\n",
      "Epoch 28/30\n",
      "2s - loss: 0.0200 - acc: 0.9931 - val_loss: 0.0625 - val_acc: 0.9831\n",
      "Epoch 29/30\n",
      "2s - loss: 0.0208 - acc: 0.9931 - val_loss: 0.0596 - val_acc: 0.9825\n",
      "Epoch 30/30\n",
      "2s - loss: 0.0188 - acc: 0.9939 - val_loss: 0.0619 - val_acc: 0.9839\n",
      "Dropout: 0.4 , Validation Accuracy: 0.9839\n",
      "Train on 60000 samples, validate on 10000 samples\n",
      "Epoch 1/30\n",
      "1s - loss: 0.4362 - acc: 0.8699 - val_loss: 0.1882 - val_acc: 0.9461\n",
      "Epoch 2/30\n",
      "1s - loss: 0.2058 - acc: 0.9411 - val_loss: 0.1333 - val_acc: 0.9583\n",
      "Epoch 3/30\n",
      "1s - loss: 0.1572 - acc: 0.9542 - val_loss: 0.1103 - val_acc: 0.9668\n",
      "Epoch 4/30\n",
      "1s - loss: 0.1328 - acc: 0.9601 - val_loss: 0.0948 - val_acc: 0.9724\n",
      "Epoch 5/30\n",
      "2s - loss: 0.1137 - acc: 0.9661 - val_loss: 0.0838 - val_acc: 0.9748\n",
      "Epoch 6/30\n",
      "2s - loss: 0.1033 - acc: 0.9687 - val_loss: 0.0807 - val_acc: 0.9760\n",
      "Epoch 7/30\n",
      "2s - loss: 0.0911 - acc: 0.9722 - val_loss: 0.0724 - val_acc: 0.9776\n",
      "Epoch 8/30\n",
      "2s - loss: 0.0831 - acc: 0.9753 - val_loss: 0.0690 - val_acc: 0.9791\n",
      "Epoch 9/30\n",
      "2s - loss: 0.0779 - acc: 0.9759 - val_loss: 0.0672 - val_acc: 0.9796\n",
      "Epoch 10/30\n",
      "2s - loss: 0.0692 - acc: 0.9785 - val_loss: 0.0652 - val_acc: 0.9791\n",
      "Epoch 11/30\n",
      "2s - loss: 0.0648 - acc: 0.9798 - val_loss: 0.0644 - val_acc: 0.9799\n",
      "Epoch 12/30\n",
      "2s - loss: 0.0627 - acc: 0.9801 - val_loss: 0.0630 - val_acc: 0.9818\n",
      "Epoch 13/30\n",
      "2s - loss: 0.0580 - acc: 0.9815 - val_loss: 0.0618 - val_acc: 0.9810\n",
      "Epoch 14/30\n",
      "2s - loss: 0.0538 - acc: 0.9823 - val_loss: 0.0629 - val_acc: 0.9810\n",
      "Epoch 15/30\n",
      "2s - loss: 0.0521 - acc: 0.9830 - val_loss: 0.0586 - val_acc: 0.9822\n",
      "Epoch 16/30\n",
      "2s - loss: 0.0484 - acc: 0.9847 - val_loss: 0.0588 - val_acc: 0.9823\n",
      "Epoch 17/30\n",
      "2s - loss: 0.0475 - acc: 0.9847 - val_loss: 0.0601 - val_acc: 0.9821\n",
      "Epoch 18/30\n",
      "2s - loss: 0.0451 - acc: 0.9860 - val_loss: 0.0589 - val_acc: 0.9838\n",
      "Epoch 19/30\n",
      "2s - loss: 0.0441 - acc: 0.9853 - val_loss: 0.0567 - val_acc: 0.9826\n",
      "Epoch 20/30\n",
      "2s - loss: 0.0413 - acc: 0.9864 - val_loss: 0.0598 - val_acc: 0.9828\n",
      "Epoch 21/30\n",
      "2s - loss: 0.0408 - acc: 0.9868 - val_loss: 0.0586 - val_acc: 0.9843\n",
      "Epoch 22/30\n",
      "2s - loss: 0.0357 - acc: 0.9882 - val_loss: 0.0587 - val_acc: 0.9837\n",
      "Epoch 23/30\n",
      "2s - loss: 0.0363 - acc: 0.9879 - val_loss: 0.0595 - val_acc: 0.9828\n",
      "Epoch 24/30\n",
      "2s - loss: 0.0353 - acc: 0.9882 - val_loss: 0.0587 - val_acc: 0.9834\n",
      "Epoch 25/30\n",
      "2s - loss: 0.0350 - acc: 0.9883 - val_loss: 0.0613 - val_acc: 0.9832\n",
      "Epoch 26/30\n",
      "2s - loss: 0.0338 - acc: 0.9886 - val_loss: 0.0590 - val_acc: 0.9831\n",
      "Epoch 27/30\n",
      "2s - loss: 0.0339 - acc: 0.9888 - val_loss: 0.0574 - val_acc: 0.9832\n",
      "Epoch 28/30\n",
      "2s - loss: 0.0322 - acc: 0.9897 - val_loss: 0.0622 - val_acc: 0.9831\n",
      "Epoch 29/30\n",
      "2s - loss: 0.0305 - acc: 0.9898 - val_loss: 0.0582 - val_acc: 0.9832\n",
      "Epoch 30/30\n",
      "2s - loss: 0.0307 - acc: 0.9892 - val_loss: 0.0594 - val_acc: 0.9838\n",
      "Dropout: 0.5 , Validation Accuracy: 0.9838\n",
      "Train on 60000 samples, validate on 10000 samples\n",
      "Epoch 1/30\n",
      "1s - loss: 0.4764 - acc: 0.8565 - val_loss: 0.2049 - val_acc: 0.9438\n",
      "Epoch 2/30\n",
      "1s - loss: 0.2375 - acc: 0.9310 - val_loss: 0.1436 - val_acc: 0.9563\n",
      "Epoch 3/30\n",
      "1s - loss: 0.1860 - acc: 0.9459 - val_loss: 0.1182 - val_acc: 0.9645\n",
      "Epoch 4/30\n",
      "1s - loss: 0.1596 - acc: 0.9530 - val_loss: 0.1019 - val_acc: 0.9696\n",
      "Epoch 5/30\n",
      "2s - loss: 0.1385 - acc: 0.9590 - val_loss: 0.0944 - val_acc: 0.9719\n",
      "Epoch 6/30\n",
      "2s - loss: 0.1268 - acc: 0.9626 - val_loss: 0.0870 - val_acc: 0.9739\n",
      "Epoch 7/30\n",
      "2s - loss: 0.1164 - acc: 0.9654 - val_loss: 0.0827 - val_acc: 0.9750\n",
      "Epoch 8/30\n",
      "2s - loss: 0.1092 - acc: 0.9675 - val_loss: 0.0752 - val_acc: 0.9768\n",
      "Epoch 9/30\n",
      "2s - loss: 0.0999 - acc: 0.9695 - val_loss: 0.0736 - val_acc: 0.9775\n",
      "Epoch 10/30\n",
      "2s - loss: 0.0921 - acc: 0.9718 - val_loss: 0.0724 - val_acc: 0.9785\n",
      "Epoch 11/30\n",
      "2s - loss: 0.0885 - acc: 0.9726 - val_loss: 0.0702 - val_acc: 0.9780\n",
      "Epoch 12/30\n",
      "2s - loss: 0.0858 - acc: 0.9738 - val_loss: 0.0663 - val_acc: 0.9799\n",
      "Epoch 13/30\n",
      "2s - loss: 0.0811 - acc: 0.9744 - val_loss: 0.0681 - val_acc: 0.9798\n",
      "Epoch 14/30\n",
      "2s - loss: 0.0771 - acc: 0.9763 - val_loss: 0.0668 - val_acc: 0.9800\n",
      "Epoch 15/30\n",
      "2s - loss: 0.0729 - acc: 0.9770 - val_loss: 0.0640 - val_acc: 0.9812\n",
      "Epoch 16/30\n",
      "2s - loss: 0.0719 - acc: 0.9770 - val_loss: 0.0643 - val_acc: 0.9803\n",
      "Epoch 17/30\n",
      "2s - loss: 0.0683 - acc: 0.9785 - val_loss: 0.0609 - val_acc: 0.9823\n",
      "Epoch 18/30\n",
      "2s - loss: 0.0679 - acc: 0.9780 - val_loss: 0.0605 - val_acc: 0.9822\n",
      "Epoch 19/30\n",
      "2s - loss: 0.0632 - acc: 0.9803 - val_loss: 0.0600 - val_acc: 0.9823\n",
      "Epoch 20/30\n",
      "2s - loss: 0.0605 - acc: 0.9812 - val_loss: 0.0601 - val_acc: 0.9827\n",
      "Epoch 21/30\n",
      "2s - loss: 0.0600 - acc: 0.9801 - val_loss: 0.0614 - val_acc: 0.9825\n",
      "Epoch 22/30\n",
      "2s - loss: 0.0577 - acc: 0.9808 - val_loss: 0.0586 - val_acc: 0.9825\n",
      "Epoch 23/30\n",
      "2s - loss: 0.0571 - acc: 0.9818 - val_loss: 0.0572 - val_acc: 0.9827\n",
      "Epoch 24/30\n",
      "2s - loss: 0.0545 - acc: 0.9822 - val_loss: 0.0599 - val_acc: 0.9823\n",
      "Epoch 25/30\n",
      "2s - loss: 0.0542 - acc: 0.9823 - val_loss: 0.0624 - val_acc: 0.9815\n",
      "Epoch 26/30\n",
      "2s - loss: 0.0529 - acc: 0.9831 - val_loss: 0.0604 - val_acc: 0.9826\n",
      "Epoch 27/30\n",
      "2s - loss: 0.0500 - acc: 0.9836 - val_loss: 0.0613 - val_acc: 0.9828\n",
      "Epoch 28/30\n",
      "2s - loss: 0.0491 - acc: 0.9843 - val_loss: 0.0614 - val_acc: 0.9826\n",
      "Epoch 29/30\n",
      "2s - loss: 0.0493 - acc: 0.9833 - val_loss: 0.0638 - val_acc: 0.9817\n",
      "Epoch 30/30\n",
      "2s - loss: 0.0472 - acc: 0.9841 - val_loss: 0.0622 - val_acc: 0.9823\n",
      "Dropout: 0.6 , Validation Accuracy: 0.9823\n",
      "Train on 60000 samples, validate on 10000 samples\n",
      "Epoch 1/30\n",
      "1s - loss: 0.5369 - acc: 0.8376 - val_loss: 0.2153 - val_acc: 0.9407\n",
      "Epoch 2/30\n",
      "1s - loss: 0.2816 - acc: 0.9179 - val_loss: 0.1628 - val_acc: 0.9538\n",
      "Epoch 3/30\n",
      "1s - loss: 0.2289 - acc: 0.9332 - val_loss: 0.1336 - val_acc: 0.9604\n",
      "Epoch 4/30\n",
      "1s - loss: 0.2000 - acc: 0.9418 - val_loss: 0.1200 - val_acc: 0.9644\n",
      "Epoch 5/30\n",
      "2s - loss: 0.1803 - acc: 0.9475 - val_loss: 0.1058 - val_acc: 0.9695\n",
      "Epoch 6/30\n",
      "2s - loss: 0.1648 - acc: 0.9508 - val_loss: 0.0972 - val_acc: 0.9715\n",
      "Epoch 7/30\n",
      "2s - loss: 0.1542 - acc: 0.9549 - val_loss: 0.0927 - val_acc: 0.9721\n",
      "Epoch 8/30\n",
      "2s - loss: 0.1462 - acc: 0.9563 - val_loss: 0.0904 - val_acc: 0.9736\n",
      "Epoch 9/30\n",
      "2s - loss: 0.1356 - acc: 0.9595 - val_loss: 0.0825 - val_acc: 0.9741\n",
      "Epoch 10/30\n",
      "2s - loss: 0.1305 - acc: 0.9605 - val_loss: 0.0806 - val_acc: 0.9754\n",
      "Epoch 11/30\n",
      "2s - loss: 0.1252 - acc: 0.9624 - val_loss: 0.0769 - val_acc: 0.9775\n",
      "Epoch 12/30\n",
      "2s - loss: 0.1188 - acc: 0.9641 - val_loss: 0.0779 - val_acc: 0.9760\n",
      "Epoch 13/30\n",
      "2s - loss: 0.1161 - acc: 0.9641 - val_loss: 0.0733 - val_acc: 0.9775\n",
      "Epoch 14/30\n",
      "2s - loss: 0.1092 - acc: 0.9658 - val_loss: 0.0755 - val_acc: 0.9778\n",
      "Epoch 15/30\n",
      "2s - loss: 0.1097 - acc: 0.9664 - val_loss: 0.0728 - val_acc: 0.9798\n",
      "Epoch 16/30\n",
      "2s - loss: 0.1055 - acc: 0.9666 - val_loss: 0.0733 - val_acc: 0.9788\n",
      "Epoch 17/30\n",
      "2s - loss: 0.1027 - acc: 0.9680 - val_loss: 0.0709 - val_acc: 0.9791\n",
      "Epoch 18/30\n",
      "2s - loss: 0.0997 - acc: 0.9680 - val_loss: 0.0685 - val_acc: 0.9803\n",
      "Epoch 19/30\n",
      "2s - loss: 0.0973 - acc: 0.9698 - val_loss: 0.0686 - val_acc: 0.9802\n",
      "Epoch 20/30\n",
      "2s - loss: 0.0947 - acc: 0.9701 - val_loss: 0.0730 - val_acc: 0.9800\n",
      "Epoch 21/30\n",
      "2s - loss: 0.0905 - acc: 0.9706 - val_loss: 0.0699 - val_acc: 0.9810\n",
      "Epoch 22/30\n",
      "2s - loss: 0.0906 - acc: 0.9714 - val_loss: 0.0679 - val_acc: 0.9813\n",
      "Epoch 23/30\n",
      "2s - loss: 0.0886 - acc: 0.9717 - val_loss: 0.0701 - val_acc: 0.9801\n",
      "Epoch 24/30\n",
      "2s - loss: 0.0867 - acc: 0.9726 - val_loss: 0.0674 - val_acc: 0.9823\n",
      "Epoch 25/30\n",
      "2s - loss: 0.0864 - acc: 0.9723 - val_loss: 0.0706 - val_acc: 0.9802\n",
      "Epoch 26/30\n",
      "2s - loss: 0.0844 - acc: 0.9729 - val_loss: 0.0699 - val_acc: 0.9816\n",
      "Epoch 27/30\n",
      "2s - loss: 0.0823 - acc: 0.9743 - val_loss: 0.0724 - val_acc: 0.9794\n",
      "Epoch 28/30\n",
      "2s - loss: 0.0784 - acc: 0.9749 - val_loss: 0.0684 - val_acc: 0.9814\n",
      "Epoch 29/30\n",
      "2s - loss: 0.0787 - acc: 0.9739 - val_loss: 0.0667 - val_acc: 0.9826\n",
      "Epoch 30/30\n",
      "2s - loss: 0.0749 - acc: 0.9752 - val_loss: 0.0688 - val_acc: 0.9813\n",
      "Dropout: 0.7 , Validation Accuracy: 0.9813\n",
      "Train on 60000 samples, validate on 10000 samples\n",
      "Epoch 1/30\n",
      "1s - loss: 0.6627 - acc: 0.7937 - val_loss: 0.2475 - val_acc: 0.9317\n",
      "Epoch 2/30\n",
      "1s - loss: 0.3622 - acc: 0.8922 - val_loss: 0.1855 - val_acc: 0.9452\n",
      "Epoch 3/30\n",
      "1s - loss: 0.3045 - acc: 0.9101 - val_loss: 0.1622 - val_acc: 0.9522\n",
      "Epoch 4/30\n",
      "1s - loss: 0.2765 - acc: 0.9178 - val_loss: 0.1426 - val_acc: 0.9581\n",
      "Epoch 5/30\n",
      "2s - loss: 0.2502 - acc: 0.9257 - val_loss: 0.1312 - val_acc: 0.9609\n",
      "Epoch 6/30\n",
      "2s - loss: 0.2372 - acc: 0.9293 - val_loss: 0.1238 - val_acc: 0.9634\n",
      "Epoch 7/30\n",
      "2s - loss: 0.2244 - acc: 0.9340 - val_loss: 0.1181 - val_acc: 0.9639\n",
      "Epoch 8/30\n",
      "2s - loss: 0.2130 - acc: 0.9365 - val_loss: 0.1089 - val_acc: 0.9661\n",
      "Epoch 9/30\n",
      "2s - loss: 0.2058 - acc: 0.9375 - val_loss: 0.1060 - val_acc: 0.9686\n",
      "Epoch 10/30\n",
      "2s - loss: 0.1963 - acc: 0.9402 - val_loss: 0.1038 - val_acc: 0.9691\n",
      "Epoch 11/30\n",
      "2s - loss: 0.1923 - acc: 0.9424 - val_loss: 0.1024 - val_acc: 0.9707\n",
      "Epoch 12/30\n",
      "2s - loss: 0.1854 - acc: 0.9442 - val_loss: 0.0959 - val_acc: 0.9712\n",
      "Epoch 13/30\n",
      "2s - loss: 0.1851 - acc: 0.9443 - val_loss: 0.0953 - val_acc: 0.9733\n",
      "Epoch 14/30\n",
      "2s - loss: 0.1797 - acc: 0.9459 - val_loss: 0.0919 - val_acc: 0.9738\n",
      "Epoch 15/30\n",
      "2s - loss: 0.1748 - acc: 0.9465 - val_loss: 0.0934 - val_acc: 0.9729\n",
      "Epoch 16/30\n",
      "2s - loss: 0.1690 - acc: 0.9482 - val_loss: 0.0895 - val_acc: 0.9739\n",
      "Epoch 17/30\n",
      "2s - loss: 0.1686 - acc: 0.9489 - val_loss: 0.0885 - val_acc: 0.9752\n",
      "Epoch 18/30\n",
      "2s - loss: 0.1648 - acc: 0.9500 - val_loss: 0.0900 - val_acc: 0.9737\n",
      "Epoch 19/30\n",
      "2s - loss: 0.1629 - acc: 0.9494 - val_loss: 0.0888 - val_acc: 0.9746\n",
      "Epoch 20/30\n",
      "2s - loss: 0.1602 - acc: 0.9507 - val_loss: 0.0853 - val_acc: 0.9758\n",
      "Epoch 21/30\n",
      "2s - loss: 0.1572 - acc: 0.9519 - val_loss: 0.0847 - val_acc: 0.9757\n",
      "Epoch 22/30\n",
      "2s - loss: 0.1530 - acc: 0.9529 - val_loss: 0.0821 - val_acc: 0.9756\n",
      "Epoch 23/30\n",
      "2s - loss: 0.1505 - acc: 0.9534 - val_loss: 0.0847 - val_acc: 0.9766\n",
      "Epoch 24/30\n",
      "2s - loss: 0.1499 - acc: 0.9535 - val_loss: 0.0832 - val_acc: 0.9772\n",
      "Epoch 25/30\n",
      "2s - loss: 0.1530 - acc: 0.9522 - val_loss: 0.0838 - val_acc: 0.9765\n",
      "Epoch 26/30\n",
      "2s - loss: 0.1500 - acc: 0.9539 - val_loss: 0.0824 - val_acc: 0.9762\n",
      "Epoch 27/30\n",
      "2s - loss: 0.1460 - acc: 0.9552 - val_loss: 0.0829 - val_acc: 0.9771\n",
      "Epoch 28/30\n",
      "2s - loss: 0.1404 - acc: 0.9565 - val_loss: 0.0797 - val_acc: 0.9779\n",
      "Epoch 29/30\n",
      "2s - loss: 0.1420 - acc: 0.9556 - val_loss: 0.0832 - val_acc: 0.9765\n",
      "Epoch 30/30\n",
      "2s - loss: 0.1410 - acc: 0.9552 - val_loss: 0.0816 - val_acc: 0.9772\n",
      "Dropout: 0.8 , Validation Accuracy: 0.9772\n",
      "Train on 60000 samples, validate on 10000 samples\n",
      "Epoch 1/30\n",
      "1s - loss: 0.9965 - acc: 0.6762 - val_loss: 0.3177 - val_acc: 0.9162\n",
      "Epoch 2/30\n",
      "1s - loss: 0.5857 - acc: 0.8170 - val_loss: 0.2464 - val_acc: 0.9300\n",
      "Epoch 3/30\n",
      "1s - loss: 0.5067 - acc: 0.8434 - val_loss: 0.2151 - val_acc: 0.9361\n",
      "Epoch 4/30\n",
      "2s - loss: 0.4675 - acc: 0.8541 - val_loss: 0.1979 - val_acc: 0.9411\n",
      "Epoch 5/30\n",
      "2s - loss: 0.4455 - acc: 0.8634 - val_loss: 0.1870 - val_acc: 0.9450\n",
      "Epoch 6/30\n",
      "2s - loss: 0.4283 - acc: 0.8688 - val_loss: 0.1752 - val_acc: 0.9489\n",
      "Epoch 7/30\n",
      "2s - loss: 0.4129 - acc: 0.8721 - val_loss: 0.1690 - val_acc: 0.9496\n",
      "Epoch 8/30\n",
      "2s - loss: 0.4032 - acc: 0.8762 - val_loss: 0.1610 - val_acc: 0.9529\n",
      "Epoch 9/30\n",
      "2s - loss: 0.3980 - acc: 0.8773 - val_loss: 0.1574 - val_acc: 0.9540\n",
      "Epoch 10/30\n",
      "2s - loss: 0.3859 - acc: 0.8803 - val_loss: 0.1532 - val_acc: 0.9557\n",
      "Epoch 11/30\n",
      "2s - loss: 0.3783 - acc: 0.8827 - val_loss: 0.1506 - val_acc: 0.9559\n",
      "Epoch 12/30\n",
      "2s - loss: 0.3749 - acc: 0.8832 - val_loss: 0.1470 - val_acc: 0.9575\n",
      "Epoch 13/30\n",
      "2s - loss: 0.3653 - acc: 0.8864 - val_loss: 0.1478 - val_acc: 0.9572\n",
      "Epoch 14/30\n",
      "2s - loss: 0.3619 - acc: 0.8879 - val_loss: 0.1431 - val_acc: 0.9585\n",
      "Epoch 15/30\n",
      "2s - loss: 0.3587 - acc: 0.8880 - val_loss: 0.1409 - val_acc: 0.9598\n",
      "Epoch 16/30\n",
      "2s - loss: 0.3549 - acc: 0.8882 - val_loss: 0.1387 - val_acc: 0.9598\n",
      "Epoch 17/30\n",
      "2s - loss: 0.3511 - acc: 0.8916 - val_loss: 0.1401 - val_acc: 0.9594\n",
      "Epoch 18/30\n",
      "2s - loss: 0.3452 - acc: 0.8920 - val_loss: 0.1396 - val_acc: 0.9608\n",
      "Epoch 19/30\n",
      "2s - loss: 0.3469 - acc: 0.8920 - val_loss: 0.1345 - val_acc: 0.9613\n",
      "Epoch 20/30\n",
      "2s - loss: 0.3433 - acc: 0.8929 - val_loss: 0.1322 - val_acc: 0.9623\n",
      "Epoch 21/30\n",
      "2s - loss: 0.3405 - acc: 0.8940 - val_loss: 0.1322 - val_acc: 0.9631\n",
      "Epoch 22/30\n",
      "2s - loss: 0.3363 - acc: 0.8945 - val_loss: 0.1346 - val_acc: 0.9637\n",
      "Epoch 23/30\n",
      "2s - loss: 0.3396 - acc: 0.8933 - val_loss: 0.1335 - val_acc: 0.9624\n",
      "Epoch 24/30\n",
      "2s - loss: 0.3312 - acc: 0.8969 - val_loss: 0.1291 - val_acc: 0.9644\n",
      "Epoch 25/30\n",
      "2s - loss: 0.3329 - acc: 0.8956 - val_loss: 0.1313 - val_acc: 0.9632\n",
      "Epoch 26/30\n",
      "2s - loss: 0.3269 - acc: 0.8977 - val_loss: 0.1272 - val_acc: 0.9643\n",
      "Epoch 27/30\n",
      "2s - loss: 0.3272 - acc: 0.8954 - val_loss: 0.1317 - val_acc: 0.9637\n",
      "Epoch 28/30\n",
      "2s - loss: 0.3224 - acc: 0.8979 - val_loss: 0.1303 - val_acc: 0.9645\n",
      "Epoch 29/30\n",
      "2s - loss: 0.3230 - acc: 0.8972 - val_loss: 0.1267 - val_acc: 0.9653\n",
      "Epoch 30/30\n",
      "2s - loss: 0.3181 - acc: 0.8998 - val_loss: 0.1276 - val_acc: 0.9641\n",
      "Dropout: 0.9 , Validation Accuracy: 0.9641\n",
      "Train on 60000 samples, validate on 10000 samples\n",
      "Epoch 1/30\n",
      "1s - loss: 0.3405 - acc: 0.9038 - val_loss: 0.1758 - val_acc: 0.9501\n",
      "Epoch 2/30\n",
      "1s - loss: 0.1451 - acc: 0.9581 - val_loss: 0.1188 - val_acc: 0.9648\n",
      "Epoch 3/30\n",
      "1s - loss: 0.0991 - acc: 0.9715 - val_loss: 0.0915 - val_acc: 0.9725\n",
      "Epoch 4/30\n",
      "1s - loss: 0.0738 - acc: 0.9790 - val_loss: 0.0842 - val_acc: 0.9743\n",
      "Epoch 5/30\n",
      "1s - loss: 0.0587 - acc: 0.9828 - val_loss: 0.0754 - val_acc: 0.9769\n",
      "Epoch 6/30\n",
      "1s - loss: 0.0463 - acc: 0.9870 - val_loss: 0.0695 - val_acc: 0.9787\n",
      "Epoch 7/30\n",
      "1s - loss: 0.0369 - acc: 0.9896 - val_loss: 0.0634 - val_acc: 0.9813\n",
      "Epoch 8/30\n",
      "1s - loss: 0.0298 - acc: 0.9923 - val_loss: 0.0658 - val_acc: 0.9793\n",
      "Epoch 9/30\n",
      "1s - loss: 0.0237 - acc: 0.9943 - val_loss: 0.0654 - val_acc: 0.9787\n",
      "Epoch 10/30\n",
      "1s - loss: 0.0213 - acc: 0.9949 - val_loss: 0.0655 - val_acc: 0.9794\n",
      "Epoch 11/30\n",
      "1s - loss: 0.0166 - acc: 0.9963 - val_loss: 0.0628 - val_acc: 0.9800\n",
      "Epoch 12/30\n",
      "1s - loss: 0.0126 - acc: 0.9976 - val_loss: 0.0684 - val_acc: 0.9795\n",
      "Epoch 13/30\n",
      "1s - loss: 0.0106 - acc: 0.9981 - val_loss: 0.0615 - val_acc: 0.9814\n",
      "Epoch 14/30\n",
      "1s - loss: 0.0087 - acc: 0.9988 - val_loss: 0.0691 - val_acc: 0.9804\n",
      "Epoch 15/30\n",
      "1s - loss: 0.0069 - acc: 0.9990 - val_loss: 0.0645 - val_acc: 0.9817\n",
      "Epoch 16/30\n",
      "1s - loss: 0.0055 - acc: 0.9994 - val_loss: 0.0663 - val_acc: 0.9817\n",
      "Epoch 17/30\n",
      "1s - loss: 0.0049 - acc: 0.9995 - val_loss: 0.0646 - val_acc: 0.9814\n",
      "Epoch 18/30\n",
      "1s - loss: 0.0039 - acc: 0.9996 - val_loss: 0.0704 - val_acc: 0.9806\n",
      "Epoch 19/30\n",
      "1s - loss: 0.0037 - acc: 0.9996 - val_loss: 0.0667 - val_acc: 0.9812\n",
      "Epoch 20/30\n",
      "1s - loss: 0.0061 - acc: 0.9986 - val_loss: 0.0775 - val_acc: 0.9793\n",
      "Epoch 21/30\n",
      "1s - loss: 0.0072 - acc: 0.9981 - val_loss: 0.0752 - val_acc: 0.9793\n",
      "Epoch 22/30\n",
      "1s - loss: 0.0037 - acc: 0.9995 - val_loss: 0.0733 - val_acc: 0.9808\n",
      "Epoch 23/30\n",
      "1s - loss: 0.0013 - acc: 1.0000 - val_loss: 0.0727 - val_acc: 0.9819\n",
      "Epoch 24/30\n",
      "1s - loss: 8.6708e-04 - acc: 1.0000 - val_loss: 0.0701 - val_acc: 0.9815\n",
      "Epoch 25/30\n",
      "1s - loss: 6.8590e-04 - acc: 1.0000 - val_loss: 0.0700 - val_acc: 0.9822\n",
      "Epoch 26/30\n",
      "1s - loss: 5.8292e-04 - acc: 1.0000 - val_loss: 0.0705 - val_acc: 0.9824\n",
      "Epoch 27/30\n",
      "1s - loss: 5.2686e-04 - acc: 1.0000 - val_loss: 0.0716 - val_acc: 0.9821\n",
      "Epoch 28/30\n",
      "1s - loss: 4.6330e-04 - acc: 1.0000 - val_loss: 0.0738 - val_acc: 0.9819\n",
      "Epoch 29/30\n",
      "1s - loss: 0.0043 - acc: 0.9990 - val_loss: 0.1277 - val_acc: 0.9686\n",
      "Epoch 30/30\n",
      "1s - loss: 0.0166 - acc: 0.9943 - val_loss: 0.0809 - val_acc: 0.9797\n",
      "Dropout: 1.0 , Validation Accuracy: 0.9797\n"
     ]
    }
   ],
   "source": [
    "for dropout in dropouts:\n",
    "    model = get_dropout_model(lr = 0.001, M = 300, w = dropout)\n",
    "\n",
    "    model.fit(X_train, Y_train, validation_data=(X_test, Y_test), nb_epoch=30, batch_size=200, verbose=2)\n",
    "    scores = model.evaluate(X_test, Y_test, verbose=0)\n",
    "    \n",
    "    print \"Dropout:\", dropout, \", Validation Accuracy:\", scores[1]\n",
    "    "
   ]
  },
  {
   "cell_type": "code",
   "execution_count": null,
   "metadata": {
    "collapsed": false
   },
   "outputs": [],
   "source": []
  },
  {
   "cell_type": "markdown",
   "metadata": {},
   "source": [
    "## Part 2.5 - 3-layer Network"
   ]
  },
  {
   "cell_type": "code",
   "execution_count": null,
   "metadata": {
    "collapsed": false
   },
   "outputs": [],
   "source": []
  },
  {
   "cell_type": "code",
   "execution_count": 17,
   "metadata": {
    "collapsed": false
   },
   "outputs": [],
   "source": [
    "hl_1 = [300, 500]\n",
    "hl_2 = [150, 300]\n",
    "lrs = [0.001]\n",
    "dropout_1 = [0.0, 0.1, 0.2]\n",
    "dropout_2 = [0.0, 0.1, 0.2]"
   ]
  },
  {
   "cell_type": "code",
   "execution_count": null,
   "metadata": {
    "collapsed": false
   },
   "outputs": [],
   "source": []
  },
  {
   "cell_type": "code",
   "execution_count": 18,
   "metadata": {
    "collapsed": false
   },
   "outputs": [],
   "source": [
    "def get_three_layer_model(lr=0.001, M=500, N =150, w1=0.2, w2=0.2):\n",
    "    model = Sequential()\n",
    "    model.add(Dense(M, input_dim=num_pixels, init='normal', activation='relu'))\n",
    "    model.add(Dropout(w1))\n",
    "    \n",
    "    model.add(Dense(N, input_dim=M, init='normal', activation='relu'))\n",
    "    model.add(Dropout(w2))\n",
    "    \n",
    "    model.add(Dense(10, activation='softmax'))\n",
    "    model.compile(optimizer='adam',\n",
    "               loss='categorical_crossentropy',\n",
    "               metrics=['accuracy'])\n",
    "    model.optimizer.lr.set_value(lr)\n",
    "    return model"
   ]
  },
  {
   "cell_type": "code",
   "execution_count": 20,
   "metadata": {
    "collapsed": true
   },
   "outputs": [
    {
     "name": "stdout",
     "output_type": "stream",
     "text": [
      "Hidden Layer 1: 300 , Hidden Layer 2: 150 , Learning Rate: 0.001 , Dropout 1: 0.0 , Dropout 2: 0.0 , Validation Accuracy: 0.9839\n",
      "Hidden Layer 1: 300 , Hidden Layer 2: 150 , Learning Rate: 0.001 , Dropout 1: 0.0 , Dropout 2: 0.1 , Validation Accuracy: 0.9826\n",
      "Hidden Layer 1: 300 , Hidden Layer 2: 150 , Learning Rate: 0.001 , Dropout 1: 0.0 , Dropout 2: 0.2 , Validation Accuracy: 0.9806\n",
      "Hidden Layer 1: 300 , Hidden Layer 2: 150 , Learning Rate: 0.001 , Dropout 1: 0.1 , Dropout 2: 0.0 , Validation Accuracy: 0.9829\n",
      "Hidden Layer 1: 300 , Hidden Layer 2: 150 , Learning Rate: 0.001 , Dropout 1: 0.1 , Dropout 2: 0.1 , Validation Accuracy: 0.983\n",
      "Hidden Layer 1: 300 , Hidden Layer 2: 150 , Learning Rate: 0.001 , Dropout 1: 0.1 , Dropout 2: 0.2 , Validation Accuracy: 0.9856\n",
      "Hidden Layer 1: 300 , Hidden Layer 2: 150 , Learning Rate: 0.001 , Dropout 1: 0.2 , Dropout 2: 0.0 , Validation Accuracy: 0.9835\n",
      "Hidden Layer 1: 300 , Hidden Layer 2: 150 , Learning Rate: 0.001 , Dropout 1: 0.2 , Dropout 2: 0.1 , Validation Accuracy: 0.9834\n",
      "Hidden Layer 1: 300 , Hidden Layer 2: 150 , Learning Rate: 0.001 , Dropout 1: 0.2 , Dropout 2: 0.2 , Validation Accuracy: 0.9843\n",
      "Hidden Layer 1: 300 , Hidden Layer 2: 300 , Learning Rate: 0.001 , Dropout 1: 0.0 , Dropout 2: 0.0 , Validation Accuracy: 0.9807\n",
      "Hidden Layer 1: 300 , Hidden Layer 2: 300 , Learning Rate: 0.001 , Dropout 1: 0.0 , Dropout 2: 0.1 , Validation Accuracy: 0.9817\n",
      "Hidden Layer 1: 300 , Hidden Layer 2: 300 , Learning Rate: 0.001 , Dropout 1: 0.0 , Dropout 2: 0.2 , Validation Accuracy: 0.9814\n",
      "Hidden Layer 1: 300 , Hidden Layer 2: 300 , Learning Rate: 0.001 , Dropout 1: 0.1 , Dropout 2: 0.0 , Validation Accuracy: 0.9817\n",
      "Hidden Layer 1: 300 , Hidden Layer 2: 300 , Learning Rate: 0.001 , Dropout 1: 0.1 , Dropout 2: 0.1 , Validation Accuracy: 0.9821\n",
      "Hidden Layer 1: 300 , Hidden Layer 2: 300 , Learning Rate: 0.001 , Dropout 1: 0.1 , Dropout 2: 0.2 , Validation Accuracy: 0.9814\n",
      "Hidden Layer 1: 300 , Hidden Layer 2: 300 , Learning Rate: 0.001 , Dropout 1: 0.2 , Dropout 2: 0.0 , Validation Accuracy: 0.985\n",
      "Hidden Layer 1: 300 , Hidden Layer 2: 300 , Learning Rate: 0.001 , Dropout 1: 0.2 , Dropout 2: 0.1 , Validation Accuracy: 0.9837\n",
      "Hidden Layer 1: 300 , Hidden Layer 2: 300 , Learning Rate: 0.001 , Dropout 1: 0.2 , Dropout 2: 0.2 , Validation Accuracy: 0.9838\n",
      "Hidden Layer 1: 500 , Hidden Layer 2: 150 , Learning Rate: 0.001 , Dropout 1: 0.0 , Dropout 2: 0.0 , Validation Accuracy: 0.9806\n",
      "Hidden Layer 1: 500 , Hidden Layer 2: 150 , Learning Rate: 0.001 , Dropout 1: 0.0 , Dropout 2: 0.1 , Validation Accuracy: 0.9794\n",
      "Hidden Layer 1: 500 , Hidden Layer 2: 150 , Learning Rate: 0.001 , Dropout 1: 0.0 , Dropout 2: 0.2 , Validation Accuracy: 0.9779\n",
      "Hidden Layer 1: 500 , Hidden Layer 2: 150 , Learning Rate: 0.001 , Dropout 1: 0.1 , Dropout 2: 0.0 , Validation Accuracy: 0.9821\n",
      "Hidden Layer 1: 500 , Hidden Layer 2: 150 , Learning Rate: 0.001 , Dropout 1: 0.1 , Dropout 2: 0.1 , Validation Accuracy: 0.9841\n",
      "Hidden Layer 1: 500 , Hidden Layer 2: 150 , Learning Rate: 0.001 , Dropout 1: 0.1 , Dropout 2: 0.2 , Validation Accuracy: 0.9839\n",
      "Hidden Layer 1: 500 , Hidden Layer 2: 150 , Learning Rate: 0.001 , Dropout 1: 0.2 , Dropout 2: 0.0 , Validation Accuracy: 0.9846\n",
      "Hidden Layer 1: 500 , Hidden Layer 2: 150 , Learning Rate: 0.001 , Dropout 1: 0.2 , Dropout 2: 0.1 , Validation Accuracy: 0.9829\n",
      "Hidden Layer 1: 500 , Hidden Layer 2: 150 , Learning Rate: 0.001 , Dropout 1: 0.2 , Dropout 2: 0.2 , Validation Accuracy: 0.9827\n",
      "Hidden Layer 1: 500 , Hidden Layer 2: 300 , Learning Rate: 0.001 , Dropout 1: 0.0 , Dropout 2: 0.0 , Validation Accuracy: 0.9852\n",
      "Hidden Layer 1: 500 , Hidden Layer 2: 300 , Learning Rate: 0.001 , Dropout 1: 0.0 , Dropout 2: 0.1 , Validation Accuracy: 0.982\n",
      "Hidden Layer 1: 500 , Hidden Layer 2: 300 , Learning Rate: 0.001 , Dropout 1: 0.0 , Dropout 2: 0.2 , Validation Accuracy: 0.9824\n",
      "Hidden Layer 1: 500 , Hidden Layer 2: 300 , Learning Rate: 0.001 , Dropout 1: 0.1 , Dropout 2: 0.0 , Validation Accuracy: 0.9833\n",
      "Hidden Layer 1: 500 , Hidden Layer 2: 300 , Learning Rate: 0.001 , Dropout 1: 0.1 , Dropout 2: 0.1 , Validation Accuracy: 0.9815\n",
      "Hidden Layer 1: 500 , Hidden Layer 2: 300 , Learning Rate: 0.001 , Dropout 1: 0.1 , Dropout 2: 0.2 , Validation Accuracy: 0.9826\n",
      "Hidden Layer 1: 500 , Hidden Layer 2: 300 , Learning Rate: 0.001 , Dropout 1: 0.2 , Dropout 2: 0.0 , Validation Accuracy: 0.9845\n",
      "Hidden Layer 1: 500 , Hidden Layer 2: 300 , Learning Rate: 0.001 , Dropout 1: 0.2 , Dropout 2: 0.1 , Validation Accuracy: 0.9823\n",
      "Hidden Layer 1: 500 , Hidden Layer 2: 300 , Learning Rate: 0.001 , Dropout 1: 0.2 , Dropout 2: 0.2 , Validation Accuracy: 0.9831\n"
     ]
    }
   ],
   "source": [
    "for M in hl_1:\n",
    "    for N in hl_2:\n",
    "        for lr in lrs:\n",
    "            for w1 in dropout_1:\n",
    "                for w2 in dropout_2:\n",
    "                    \n",
    "                    model = get_three_layer_model(lr=lr, M=M, N =N, w1=w1, w2=w2)\n",
    "                    \n",
    "                    model.fit(X_train, Y_train, validation_data=(X_test, Y_test), nb_epoch=30, batch_size=200, verbose=0)\n",
    "                    scores = model.evaluate(X_test, Y_test, verbose=0)\n",
    "    \n",
    "                    print \"Hidden Layer 1:\", M, \", Hidden Layer 2:\", N, \", Learning Rate:\", lr, \", Dropout 1:\", w1, \", Dropout 2:\", w2, \", Validation Accuracy:\", scores[1] \n",
    "\n",
    "                    \n",
    "                    \n",
    "                    \n",
    "                    "
   ]
  },
  {
   "cell_type": "code",
   "execution_count": null,
   "metadata": {
    "collapsed": false
   },
   "outputs": [],
   "source": []
  }
 ],
 "metadata": {
  "anaconda-cloud": {},
  "kernelspec": {
   "display_name": "Python [default]",
   "language": "python",
   "name": "python2"
  },
  "language_info": {
   "codemirror_mode": {
    "name": "ipython",
    "version": 2
   },
   "file_extension": ".py",
   "mimetype": "text/x-python",
   "name": "python",
   "nbconvert_exporter": "python",
   "pygments_lexer": "ipython2",
   "version": "2.7.12"
  },
  "latex_envs": {
   "bibliofile": "biblio.bib",
   "cite_by": "apalike",
   "current_citInitial": 1,
   "eqLabelWithNumbers": true,
   "eqNumInitial": 0
  },
  "toc": {
   "nav_menu": {
    "height": "102px",
    "width": "252px"
   },
   "navigate_menu": true,
   "number_sections": true,
   "sideBar": true,
   "threshold": 4,
   "toc_cell": false,
   "toc_section_display": "block",
   "toc_window_display": false
  }
 },
 "nbformat": 4,
 "nbformat_minor": 0
}
