{
 "cells": [
  {
   "cell_type": "code",
   "execution_count": 1,
   "metadata": {
    "collapsed": true
   },
   "outputs": [],
   "source": [
    "import pandas as pd\n",
    "import numpy as np\n",
    "import matplotlib.pyplot as plt\n",
    "%matplotlib inline\n",
    "from sklearn.ensemble import RandomForestRegressor\n",
    "from sklearn.preprocessing import OneHotEncoder, LabelEncoder\n",
    "from sklearn.metrics import mean_squared_error\n",
    "from sklearn.linear_model import LinearRegression\n",
    "from sklearn.discriminant_analysis import LinearDiscriminantAnalysis, QuadraticDiscriminantAnalysis\n",
    "from sklearn.neighbors import KNeighborsClassifier, KNeighborsRegressor\n",
    "from sklearn.tree import DecisionTreeClassifier, DecisionTreeRegressor\n",
    "from sklearn.ensemble import AdaBoostClassifier\n",
    "from sklearn.decomposition import PCA"
   ]
  },
  {
   "cell_type": "code",
   "execution_count": 2,
   "metadata": {
    "collapsed": false
   },
   "outputs": [],
   "source": [
    "def dummy_variable(columns, dataframe):\n",
    "    enc = OneHotEncoder()\n",
    "    labler = LabelEncoder()\n",
    "    \n",
    "    for colname in columns:\n",
    "        labels = labler.fit_transform(dataframe[colname])\n",
    "        labels = labels.reshape(-1,1)\n",
    "        categor_vars = enc.fit_transform(labels)\n",
    "        categor_vars = categor_vars.toarray()\n",
    "        df = pd.DataFrame(categor_vars)\n",
    "        columns = df.columns\n",
    "        column_labels = labler.inverse_transform(columns)\n",
    "        df.columns = [str(col) + \"_\" + colname for col in column_labels]\n",
    "\n",
    "        del dataframe[colname]\n",
    "        dataframe = pd.concat([dataframe.reset_index(drop=True), df.iloc[:,:-1].reset_index(drop=True)], axis=1)\n",
    "    \n",
    "    return dataframe \n",
    "\n",
    "def cross_val(estimator, x, y, k=10, reg=True):\n",
    "    from sklearn.model_selection import KFold\n",
    "    from sklearn.metrics import mean_squared_error\n",
    "    from sklearn.metrics import accuracy_score\n",
    "    import numpy as np\n",
    "    \n",
    "    \n",
    "    kf = KFold(n_splits=k, shuffle=True)\n",
    "    score = []\n",
    "    for train_index, test_index in kf.split(X):\n",
    "        X_train, Y_train = x.iloc[train_index,:], y[train_index] \n",
    "        X_test, Y_test = x.iloc[test_index,:], y[test_index]\n",
    "        \n",
    "        estimator.fit(X_train, Y_train)\n",
    "        y_predict = estimator.predict(X_test)\n",
    "        if reg:\n",
    "            score.append(mean_squared_error(Y_test, y_predict))\n",
    "        else:\n",
    "            score.append(accuracy_score(Y_test, y_predict))\n",
    "    return np.mean(score)\n"
   ]
  },
  {
   "cell_type": "code",
   "execution_count": 3,
   "metadata": {
    "collapsed": false
   },
   "outputs": [],
   "source": [
    "port = pd.read_csv('student-por.csv', sep=\";\")\n",
    "port['class'] = \"portuguese\"\n",
    "math = pd.read_csv('student-mat.csv', sep=\";\")\n",
    "math['class'] = 'math'\n",
    "data = pd.concat([port, math], axis=0)\n",
    "data = data.drop_duplicates([\"school\",\"sex\",\"age\",\"address\",\"famsize\",\"Pstatus\",\"Medu\",\"Fedu\",\"Mjob\",\"Fjob\",\"reason\",\"nursery\",\"internet\"])\n",
    "data = data.reset_index(drop=True)"
   ]
  },
  {
   "cell_type": "code",
   "execution_count": 4,
   "metadata": {
    "collapsed": false
   },
   "outputs": [
    {
     "data": {
      "text/plain": [
       "Index([u'school', u'sex', u'age', u'address', u'famsize', u'Pstatus', u'Medu',\n",
       "       u'Fedu', u'Mjob', u'Fjob', u'reason', u'guardian', u'traveltime',\n",
       "       u'studytime', u'failures', u'schoolsup', u'famsup', u'paid',\n",
       "       u'activities', u'nursery', u'higher', u'internet', u'romantic',\n",
       "       u'famrel', u'freetime', u'goout', u'Dalc', u'Walc', u'health',\n",
       "       u'absences', u'G1', u'G2', u'G3', u'class'],\n",
       "      dtype='object')"
      ]
     },
     "execution_count": 4,
     "metadata": {},
     "output_type": "execute_result"
    }
   ],
   "source": [
    "data.columns"
   ]
  },
  {
   "cell_type": "code",
   "execution_count": 5,
   "metadata": {
    "collapsed": false
   },
   "outputs": [],
   "source": [
    "Y = data['Walc']\n",
    "#Y = (data['Walc'] * 2 + data['Dalc'] * 5) / 7.0\n",
    "#Y = Y >= 3\n",
    "X = data.drop(['Walc'], axis=1)\n",
    "columns = [u'school', u'sex', u'famsize', u'Pstatus', u'Medu',\n",
    "       u'Fedu', u'Mjob', u'Fjob', u'reason', u'guardian', u'traveltime',\n",
    "       u'studytime', u'failures', u'schoolsup', u'famsup', u'paid',\n",
    "       u'activities', u'nursery', u'higher', u'internet', u'romantic',\n",
    "       u'famrel', u'freetime', u'goout','health', 'G1', 'G2', 'G3', 'class','Dalc']\n",
    "X = data.loc[:,columns]\n",
    "X = dummy_variable(columns, X)\n",
    "extra_col = ['failures', 'G1', 'absences', 'age']\n",
    "X = pd.concat([X, data.loc[:,extra_col]], axis=1)"
   ]
  },
  {
   "cell_type": "code",
   "execution_count": 11,
   "metadata": {
    "collapsed": false
   },
   "outputs": [
    {
     "data": {
      "text/plain": [
       "(662, 34)"
      ]
     },
     "execution_count": 11,
     "metadata": {},
     "output_type": "execute_result"
    }
   ],
   "source": [
    "data.shape"
   ]
  },
  {
   "cell_type": "code",
   "execution_count": 13,
   "metadata": {
    "collapsed": false
   },
   "outputs": [
    {
     "data": {
      "text/plain": [
       "193    3\n",
       "237    3\n",
       "328    2\n",
       "333    2\n",
       "340    2\n",
       "345    2\n",
       "370    3\n",
       "373    5\n",
       "409    2\n",
       "538    3\n",
       "583    2\n",
       "585    2\n",
       "595    1\n",
       "625    4\n",
       "Name: Walc, dtype: int64"
      ]
     },
     "execution_count": 13,
     "metadata": {},
     "output_type": "execute_result"
    }
   ],
   "source": [
    "data.loc[data['G2']==18, 'Walc']"
   ]
  },
  {
   "cell_type": "code",
   "execution_count": 10,
   "metadata": {
    "collapsed": false
   },
   "outputs": [
    {
     "data": {
      "text/plain": [
       "11    106\n",
       "12     87\n",
       "10     84\n",
       "13     83\n",
       "9      75\n",
       "14     55\n",
       "8      40\n",
       "15     37\n",
       "16     25\n",
       "17     20\n",
       "7      16\n",
       "18     14\n",
       "0       8\n",
       "6       7\n",
       "5       3\n",
       "4       1\n",
       "19      1\n",
       "Name: G2, dtype: int64"
      ]
     },
     "execution_count": 10,
     "metadata": {},
     "output_type": "execute_result"
    }
   ],
   "source": [
    "data['G2'].value_counts()"
   ]
  },
  {
   "cell_type": "code",
   "execution_count": 6,
   "metadata": {
    "collapsed": false
   },
   "outputs": [
    {
     "data": {
      "text/html": [
       "<div>\n",
       "<table border=\"1\" class=\"dataframe\">\n",
       "  <thead>\n",
       "    <tr style=\"text-align: right;\">\n",
       "      <th></th>\n",
       "      <th>GP_school</th>\n",
       "      <th>F_sex</th>\n",
       "      <th>GT3_famsize</th>\n",
       "      <th>A_Pstatus</th>\n",
       "      <th>0_Medu</th>\n",
       "      <th>1_Medu</th>\n",
       "      <th>2_Medu</th>\n",
       "      <th>3_Medu</th>\n",
       "      <th>0_Fedu</th>\n",
       "      <th>1_Fedu</th>\n",
       "      <th>...</th>\n",
       "      <th>18_G3</th>\n",
       "      <th>math_class</th>\n",
       "      <th>1_Dalc</th>\n",
       "      <th>2_Dalc</th>\n",
       "      <th>3_Dalc</th>\n",
       "      <th>4_Dalc</th>\n",
       "      <th>failures</th>\n",
       "      <th>G1</th>\n",
       "      <th>absences</th>\n",
       "      <th>age</th>\n",
       "    </tr>\n",
       "  </thead>\n",
       "  <tbody>\n",
       "    <tr>\n",
       "      <th>0</th>\n",
       "      <td>1.0</td>\n",
       "      <td>1.0</td>\n",
       "      <td>1.0</td>\n",
       "      <td>1.0</td>\n",
       "      <td>0.0</td>\n",
       "      <td>0.0</td>\n",
       "      <td>0.0</td>\n",
       "      <td>0.0</td>\n",
       "      <td>0.0</td>\n",
       "      <td>0.0</td>\n",
       "      <td>...</td>\n",
       "      <td>0.0</td>\n",
       "      <td>0.0</td>\n",
       "      <td>1.0</td>\n",
       "      <td>0.0</td>\n",
       "      <td>0.0</td>\n",
       "      <td>0.0</td>\n",
       "      <td>0</td>\n",
       "      <td>0</td>\n",
       "      <td>4</td>\n",
       "      <td>18</td>\n",
       "    </tr>\n",
       "    <tr>\n",
       "      <th>1</th>\n",
       "      <td>1.0</td>\n",
       "      <td>1.0</td>\n",
       "      <td>1.0</td>\n",
       "      <td>0.0</td>\n",
       "      <td>0.0</td>\n",
       "      <td>1.0</td>\n",
       "      <td>0.0</td>\n",
       "      <td>0.0</td>\n",
       "      <td>0.0</td>\n",
       "      <td>1.0</td>\n",
       "      <td>...</td>\n",
       "      <td>0.0</td>\n",
       "      <td>0.0</td>\n",
       "      <td>1.0</td>\n",
       "      <td>0.0</td>\n",
       "      <td>0.0</td>\n",
       "      <td>0.0</td>\n",
       "      <td>0</td>\n",
       "      <td>9</td>\n",
       "      <td>2</td>\n",
       "      <td>17</td>\n",
       "    </tr>\n",
       "    <tr>\n",
       "      <th>2</th>\n",
       "      <td>1.0</td>\n",
       "      <td>1.0</td>\n",
       "      <td>0.0</td>\n",
       "      <td>0.0</td>\n",
       "      <td>0.0</td>\n",
       "      <td>1.0</td>\n",
       "      <td>0.0</td>\n",
       "      <td>0.0</td>\n",
       "      <td>0.0</td>\n",
       "      <td>1.0</td>\n",
       "      <td>...</td>\n",
       "      <td>0.0</td>\n",
       "      <td>0.0</td>\n",
       "      <td>0.0</td>\n",
       "      <td>1.0</td>\n",
       "      <td>0.0</td>\n",
       "      <td>0.0</td>\n",
       "      <td>0</td>\n",
       "      <td>12</td>\n",
       "      <td>6</td>\n",
       "      <td>15</td>\n",
       "    </tr>\n",
       "    <tr>\n",
       "      <th>3</th>\n",
       "      <td>1.0</td>\n",
       "      <td>1.0</td>\n",
       "      <td>1.0</td>\n",
       "      <td>0.0</td>\n",
       "      <td>0.0</td>\n",
       "      <td>0.0</td>\n",
       "      <td>0.0</td>\n",
       "      <td>0.0</td>\n",
       "      <td>0.0</td>\n",
       "      <td>0.0</td>\n",
       "      <td>...</td>\n",
       "      <td>0.0</td>\n",
       "      <td>0.0</td>\n",
       "      <td>1.0</td>\n",
       "      <td>0.0</td>\n",
       "      <td>0.0</td>\n",
       "      <td>0.0</td>\n",
       "      <td>0</td>\n",
       "      <td>14</td>\n",
       "      <td>0</td>\n",
       "      <td>15</td>\n",
       "    </tr>\n",
       "    <tr>\n",
       "      <th>4</th>\n",
       "      <td>1.0</td>\n",
       "      <td>1.0</td>\n",
       "      <td>1.0</td>\n",
       "      <td>0.0</td>\n",
       "      <td>0.0</td>\n",
       "      <td>0.0</td>\n",
       "      <td>0.0</td>\n",
       "      <td>1.0</td>\n",
       "      <td>0.0</td>\n",
       "      <td>0.0</td>\n",
       "      <td>...</td>\n",
       "      <td>0.0</td>\n",
       "      <td>0.0</td>\n",
       "      <td>1.0</td>\n",
       "      <td>0.0</td>\n",
       "      <td>0.0</td>\n",
       "      <td>0.0</td>\n",
       "      <td>0</td>\n",
       "      <td>11</td>\n",
       "      <td>0</td>\n",
       "      <td>16</td>\n",
       "    </tr>\n",
       "  </tbody>\n",
       "</table>\n",
       "<p>5 rows × 115 columns</p>\n",
       "</div>"
      ],
      "text/plain": [
       "   GP_school  F_sex  GT3_famsize  A_Pstatus  0_Medu  1_Medu  2_Medu  3_Medu  \\\n",
       "0        1.0    1.0          1.0        1.0     0.0     0.0     0.0     0.0   \n",
       "1        1.0    1.0          1.0        0.0     0.0     1.0     0.0     0.0   \n",
       "2        1.0    1.0          0.0        0.0     0.0     1.0     0.0     0.0   \n",
       "3        1.0    1.0          1.0        0.0     0.0     0.0     0.0     0.0   \n",
       "4        1.0    1.0          1.0        0.0     0.0     0.0     0.0     1.0   \n",
       "\n",
       "   0_Fedu  1_Fedu ...   18_G3  math_class  1_Dalc  2_Dalc  3_Dalc  4_Dalc  \\\n",
       "0     0.0     0.0 ...     0.0         0.0     1.0     0.0     0.0     0.0   \n",
       "1     0.0     1.0 ...     0.0         0.0     1.0     0.0     0.0     0.0   \n",
       "2     0.0     1.0 ...     0.0         0.0     0.0     1.0     0.0     0.0   \n",
       "3     0.0     0.0 ...     0.0         0.0     1.0     0.0     0.0     0.0   \n",
       "4     0.0     0.0 ...     0.0         0.0     1.0     0.0     0.0     0.0   \n",
       "\n",
       "   failures  G1  absences  age  \n",
       "0         0   0         4   18  \n",
       "1         0   9         2   17  \n",
       "2         0  12         6   15  \n",
       "3         0  14         0   15  \n",
       "4         0  11         0   16  \n",
       "\n",
       "[5 rows x 115 columns]"
      ]
     },
     "execution_count": 6,
     "metadata": {},
     "output_type": "execute_result"
    }
   ],
   "source": [
    "X.head()"
   ]
  },
  {
   "cell_type": "code",
   "execution_count": 10,
   "metadata": {
    "collapsed": false
   },
   "outputs": [
    {
     "data": {
      "text/plain": [
       "Walc\n",
       "1    254\n",
       "2    147\n",
       "3    124\n",
       "4     91\n",
       "5     46\n",
       "Name: Walc, dtype: int64"
      ]
     },
     "execution_count": 10,
     "metadata": {},
     "output_type": "execute_result"
    }
   ],
   "source": [
    "X.groupby(['']).count()"
   ]
  },
  {
   "cell_type": "code",
   "execution_count": 29,
   "metadata": {
    "collapsed": true
   },
   "outputs": [],
   "source": [
    "from sklearn.preprocessing import StandardScaler\n",
    "scaler = StandardScaler()\n",
    "# calling fit and transform in sequence (using method chaining) \n",
    "# same result, but more efficient compbutation\n",
    "X_scaled_d = pd.DataFrame(scaler.fit_transform(X))"
   ]
  },
  {
   "cell_type": "code",
   "execution_count": 11,
   "metadata": {
    "collapsed": false
   },
   "outputs": [
    {
     "name": "stderr",
     "output_type": "stream",
     "text": [
      "/Users/shivakanththudi/anaconda/lib/python2.7/site-packages/sklearn/discriminant_analysis.py:387: UserWarning: Variables are collinear.\n",
      "  warnings.warn(\"Variables are collinear.\")\n",
      "/Users/shivakanththudi/anaconda/lib/python2.7/site-packages/sklearn/discriminant_analysis.py:455: UserWarning: The priors do not sum to 1. Renormalizing\n",
      "  UserWarning)\n"
     ]
    },
    {
     "data": {
      "text/plain": [
       "0.44084124830393484"
      ]
     },
     "execution_count": 11,
     "metadata": {},
     "output_type": "execute_result"
    }
   ],
   "source": [
    "cross_val(estimator=LinearDiscriminantAnalysis(), x=X, y=Y, reg=False)"
   ]
  },
  {
   "cell_type": "code",
   "execution_count": 12,
   "metadata": {
    "collapsed": false
   },
   "outputs": [
    {
     "data": {
      "text/plain": [
       "0.39441429217548618"
      ]
     },
     "execution_count": 12,
     "metadata": {},
     "output_type": "execute_result"
    }
   ],
   "source": [
    "cross_val(estimator=DecisionTreeClassifier(criterion='gini', max_depth=15), x=X, y=Y, reg=False)"
   ]
  },
  {
   "cell_type": "code",
   "execution_count": 90,
   "metadata": {
    "collapsed": false
   },
   "outputs": [
    {
     "data": {
      "text/plain": [
       "0.48948439620081408"
      ]
     },
     "execution_count": 90,
     "metadata": {},
     "output_type": "execute_result"
    }
   ],
   "source": [
    "from sklearn.ensemble import RandomForestClassifier\n",
    "estimators=50\n",
    "cross_val(estimator=RandomForestClassifier(n_estimators = estimators, random_state=False ,class_weight='auto'), x=X, y=Y, reg=False)"
   ]
  },
  {
   "cell_type": "code",
   "execution_count": 16,
   "metadata": {
    "collapsed": false
   },
   "outputs": [
    {
     "data": {
      "text/plain": [
       "0.48018995929443686"
      ]
     },
     "execution_count": 16,
     "metadata": {},
     "output_type": "execute_result"
    }
   ],
   "source": [
    "rate = .5\n",
    "ada = AdaBoostClassifier(learning_rate=rate, random_state=False)\n",
    "cross_val(estimator=ada, x=X, y=Y, reg=False)"
   ]
  },
  {
   "cell_type": "code",
   "execution_count": 111,
   "metadata": {
    "collapsed": false
   },
   "outputs": [
    {
     "data": {
      "text/plain": [
       "0.44724106739032105"
      ]
     },
     "execution_count": 111,
     "metadata": {},
     "output_type": "execute_result"
    }
   ],
   "source": [
    "from sklearn.linear_model import LogisticRegression\n",
    "log = LogisticRegression()\n",
    "cross_val(estimator=log,x=X, y=Y, reg=False)"
   ]
  },
  {
   "cell_type": "code",
   "execution_count": 119,
   "metadata": {
    "collapsed": false
   },
   "outputs": [
    {
     "data": {
      "text/plain": [
       "0.39265038444142925"
      ]
     },
     "execution_count": 119,
     "metadata": {},
     "output_type": "execute_result"
    }
   ],
   "source": [
    "from sklearn.neural_network import MLPClassifier\n",
    "mlp = MLPClassifier(solver='lbfgs', hidden_layer_sizes=(40,3), activation='tanh', random_state=0)\n",
    "\n",
    "\n",
    "cross_val(estimator=mlp,x=X, y=Y, reg=False)"
   ]
  },
  {
   "cell_type": "code",
   "execution_count": 67,
   "metadata": {
    "collapsed": false
   },
   "outputs": [],
   "source": [
    "# from sklearn.metrics import confusion_matrix\n",
    "# from sklearn.model_selection import train_test_split\n",
    "\n",
    "# train_x, test_x, train_y, test_y = train_test_split(X,Y, train_size=.1)\n",
    "# log.fit(train_x, train_y)\n",
    "# pred_y = log.predict(test_x)\n",
    "# c = confusion_matrix(test_y, pred_y)\n",
    "# print c[1,1] / float(c[1,1] + c[1,0])\n",
    "# c"
   ]
  },
  {
   "cell_type": "code",
   "execution_count": 91,
   "metadata": {
    "collapsed": false
   },
   "outputs": [
    {
     "data": {
      "text/plain": [
       "(662, 115)"
      ]
     },
     "execution_count": 91,
     "metadata": {},
     "output_type": "execute_result"
    }
   ],
   "source": [
    "X.shape"
   ]
  },
  {
   "cell_type": "code",
   "execution_count": null,
   "metadata": {
    "collapsed": true
   },
   "outputs": [],
   "source": []
  }
 ],
 "metadata": {
  "anaconda-cloud": {},
  "kernelspec": {
   "display_name": "Python [default]",
   "language": "python",
   "name": "python2"
  },
  "language_info": {
   "codemirror_mode": {
    "name": "ipython",
    "version": 2
   },
   "file_extension": ".py",
   "mimetype": "text/x-python",
   "name": "python",
   "nbconvert_exporter": "python",
   "pygments_lexer": "ipython2",
   "version": "2.7.12"
  }
 },
 "nbformat": 4,
 "nbformat_minor": 1
}
