{
 "cells": [
  {
   "cell_type": "code",
   "execution_count": 1,
   "metadata": {
    "collapsed": true
   },
   "outputs": [],
   "source": [
    "import numpy as np\n",
    "from sklearn.model_selection import cross_val_score\n",
    "from sklearn import svm\n",
    "from time import time\n",
    "from sklearn.model_selection import GridSearchCV\n",
    "from sklearn.model_selection import RandomizedSearchCV\n",
    "from sklearn.neighbors import KNeighborsClassifier"
   ]
  },
  {
   "cell_type": "code",
   "execution_count": 2,
   "metadata": {
    "collapsed": false
   },
   "outputs": [],
   "source": [
    "train = np.loadtxt('P4_train.txt', delimiter=',')\n",
    "test = np.loadtxt('P4_test.txt', delimiter=',')"
   ]
  },
  {
   "cell_type": "code",
   "execution_count": 3,
   "metadata": {
    "collapsed": false
   },
   "outputs": [],
   "source": [
    "train_X = train[:, :-1]\n",
    "train_Y = train[:, -1]\n",
    "\n",
    "test_X = test[:, :-1]\n",
    "test_Y = test[:, -1]"
   ]
  },
  {
   "cell_type": "markdown",
   "metadata": {},
   "source": [
    "## Quadratic Kernel"
   ]
  },
  {
   "cell_type": "code",
   "execution_count": 12,
   "metadata": {
    "collapsed": true
   },
   "outputs": [],
   "source": [
    "def report(results, n_top=3):\n",
    "    for i in range(1, n_top + 1):\n",
    "        candidates = np.flatnonzero(results['rank_test_score'] == i)\n",
    "        for candidate in candidates:\n",
    "            print(\"Model with rank: {0}\".format(i))\n",
    "            print(\"Mean validation score: {0:.3f} (std: {1:.3f})\".format(\n",
    "                  results['mean_test_score'][candidate],\n",
    "                  results['std_test_score'][candidate]))\n",
    "            print(\"Parameters: {0}\".format(results['params'][candidate]))\n",
    "            print(\"\")"
   ]
  },
  {
   "cell_type": "code",
   "execution_count": 47,
   "metadata": {
    "collapsed": true
   },
   "outputs": [],
   "source": [
    "svc_quad = svm.SVC(kernel='poly', degree = 2)\n",
    "\n",
    "# specify parameters and distributions to sample from\n",
    "param_dist = {'gamma' : np.arange(0.01, 1.01, 0.01), 'C' : np.arange(0.1, 10.1, 0.1)}\n"
   ]
  },
  {
   "cell_type": "code",
   "execution_count": 48,
   "metadata": {
    "collapsed": false
   },
   "outputs": [
    {
     "name": "stdout",
     "output_type": "stream",
     "text": [
      "RandomizedSearchCV took 11824.73 seconds for 1000 candidates parameter settings.\n",
      "Model with rank: 1\n",
      "Mean validation score: 0.842 (std: 0.004)\n",
      "Parameters: {'C': 8.3000000000000007, 'gamma': 0.040000000000000001}\n",
      "\n",
      "Model with rank: 1\n",
      "Mean validation score: 0.842 (std: 0.004)\n",
      "Parameters: {'C': 5.2999999999999998, 'gamma': 0.050000000000000003}\n",
      "\n",
      "Model with rank: 3\n",
      "Mean validation score: 0.842 (std: 0.003)\n",
      "Parameters: {'C': 0.90000000000000002, 'gamma': 0.12}\n",
      "\n"
     ]
    }
   ],
   "source": [
    "n_iter_search = 1000\n",
    "random_search = RandomizedSearchCV(svc_quad, param_distributions=param_dist,\n",
    "                                   n_iter=n_iter_search, n_jobs = 4)\n",
    "\n",
    "start = time()\n",
    "random_search.fit(train_X, train_Y)\n",
    "print(\"RandomizedSearchCV took %.2f seconds for %d candidates\"\n",
    "      \" parameter settings.\" % ((time() - start), n_iter_search))\n",
    "report(random_search.cv_results_)"
   ]
  },
  {
   "cell_type": "markdown",
   "metadata": {},
   "source": [
    "### Best Quadratic SVC Classifier using RandomizedSearch with gamma = 0.12 and C = 0.9"
   ]
  },
  {
   "cell_type": "code",
   "execution_count": 4,
   "metadata": {
    "collapsed": false
   },
   "outputs": [
    {
     "name": "stdout",
     "output_type": "stream",
     "text": [
      "Accuracy on test set is 0.846\n"
     ]
    }
   ],
   "source": [
    "best_quad_svc = svm.SVC(kernel='poly', degree = 2, gamma = 0.12, C = 0.9)\n",
    "\n",
    "best_quad_svc.fit(train_X, train_Y)\n",
    "print(\"Accuracy on test set is {0:.3f}\".format(best_quad_svc.score(test_X, test_Y)))"
   ]
  },
  {
   "cell_type": "code",
   "execution_count": null,
   "metadata": {
    "collapsed": true
   },
   "outputs": [],
   "source": []
  },
  {
   "cell_type": "markdown",
   "metadata": {},
   "source": [
    "## Gaussian(RBF) Kernel"
   ]
  },
  {
   "cell_type": "code",
   "execution_count": 49,
   "metadata": {
    "collapsed": true
   },
   "outputs": [],
   "source": [
    "svc_gaussian = svm.SVC(kernel='rbf')\n",
    "\n",
    "# specify parameters and distributions to sample from\n",
    "param_dist = {'gamma' : np.arange(0.01, 1.01, 0.01), 'C' : np.arange(0.1, 10.1, 0.1)}"
   ]
  },
  {
   "cell_type": "code",
   "execution_count": 50,
   "metadata": {
    "collapsed": false
   },
   "outputs": [
    {
     "name": "stdout",
     "output_type": "stream",
     "text": [
      "RandomizedSearchCV took 644.57 seconds for 100 candidates parameter settings.\n",
      "Model with rank: 1\n",
      "Mean validation score: 0.841 (std: 0.001)\n",
      "Parameters: {'C': 2.6000000000000001, 'gamma': 0.029999999999999999}\n",
      "\n",
      "Model with rank: 2\n",
      "Mean validation score: 0.841 (std: 0.003)\n",
      "Parameters: {'C': 1.7000000000000002, 'gamma': 0.069999999999999993}\n",
      "\n",
      "Model with rank: 3\n",
      "Mean validation score: 0.840 (std: 0.004)\n",
      "Parameters: {'C': 0.80000000000000004, 'gamma': 0.13}\n",
      "\n"
     ]
    }
   ],
   "source": [
    "n_iter_search = 100\n",
    "random_search = RandomizedSearchCV(svc_gaussian, param_distributions=param_dist,\n",
    "                                   n_iter=n_iter_search, n_jobs = 4)\n",
    "\n",
    "start = time()\n",
    "random_search.fit(train_X, train_Y)\n",
    "print(\"RandomizedSearchCV took %.2f seconds for %d candidates\"\n",
    "      \" parameter settings.\" % ((time() - start), n_iter_search))\n",
    "report(random_search.cv_results_)"
   ]
  },
  {
   "cell_type": "markdown",
   "metadata": {},
   "source": [
    "### Best Gaussian SVC Classifier using RandomizedSearch with gamma = 0.03 and C = 2.6"
   ]
  },
  {
   "cell_type": "code",
   "execution_count": 5,
   "metadata": {
    "collapsed": false
   },
   "outputs": [
    {
     "name": "stdout",
     "output_type": "stream",
     "text": [
      "Accuracy on test set is 0.845\n"
     ]
    }
   ],
   "source": [
    "best_gaussian_svc = svm.SVC(kernel='rbf', gamma = 0.03, C = 2.6)\n",
    "\n",
    "best_gaussian_svc.fit(train_X, train_Y)\n",
    "\n",
    "print(\"Accuracy on test set is {0:.3f}\".format(best_gaussian_svc.score(test_X, test_Y)))"
   ]
  },
  {
   "cell_type": "code",
   "execution_count": null,
   "metadata": {
    "collapsed": true
   },
   "outputs": [],
   "source": []
  },
  {
   "cell_type": "markdown",
   "metadata": {},
   "source": [
    "## kNN Classifier"
   ]
  },
  {
   "cell_type": "code",
   "execution_count": 14,
   "metadata": {
    "collapsed": true
   },
   "outputs": [],
   "source": [
    "knn_clf = KNeighborsClassifier()\n",
    "\n",
    "param_dist = {'n_neighbors' : range(1, 11)}"
   ]
  },
  {
   "cell_type": "code",
   "execution_count": 15,
   "metadata": {
    "collapsed": false
   },
   "outputs": [
    {
     "name": "stdout",
     "output_type": "stream",
     "text": [
      "GridSearchCV took 66.38 seconds for 10 candidate parameter settings.\n",
      "Model with rank: 1\n",
      "Mean validation score: 0.826 (std: 0.005)\n",
      "Parameters: {'n_neighbors': 10}\n",
      "\n",
      "Model with rank: 2\n",
      "Mean validation score: 0.822 (std: 0.006)\n",
      "Parameters: {'n_neighbors': 7}\n",
      "\n",
      "Model with rank: 3\n",
      "Mean validation score: 0.822 (std: 0.007)\n",
      "Parameters: {'n_neighbors': 8}\n",
      "\n"
     ]
    }
   ],
   "source": [
    "grid_search = GridSearchCV(knn_clf, param_grid=param_dist, n_jobs=4)\n",
    "start = time()\n",
    "grid_search.fit(train_X, train_Y)\n",
    "\n",
    "print(\"GridSearchCV took %.2f seconds for %d candidate parameter settings.\"\n",
    "      % (time() - start, len(grid_search.cv_results_['params'])))\n",
    "report(grid_search.cv_results_)"
   ]
  },
  {
   "cell_type": "markdown",
   "metadata": {},
   "source": [
    "### Best kNN Classifier with n_neighbors = 10"
   ]
  },
  {
   "cell_type": "code",
   "execution_count": 8,
   "metadata": {
    "collapsed": false
   },
   "outputs": [
    {
     "name": "stdout",
     "output_type": "stream",
     "text": [
      "Accuracy on test set is 0.828\n"
     ]
    }
   ],
   "source": [
    "best_knn_clf = KNeighborsClassifier(n_neighbors=10)\n",
    "\n",
    "best_knn_clf.fit(train_X, train_Y)\n",
    "\n",
    "print(\"Accuracy on test set is {0:.3f}\".format(best_knn_clf.score(test_X, test_Y)))"
   ]
  },
  {
   "cell_type": "code",
   "execution_count": null,
   "metadata": {
    "collapsed": true
   },
   "outputs": [],
   "source": []
  }
 ],
 "metadata": {
  "anaconda-cloud": {},
  "kernelspec": {
   "display_name": "Python [conda root]",
   "language": "python",
   "name": "conda-root-py"
  },
  "language_info": {
   "codemirror_mode": {
    "name": "ipython",
    "version": 2
   },
   "file_extension": ".py",
   "mimetype": "text/x-python",
   "name": "python",
   "nbconvert_exporter": "python",
   "pygments_lexer": "ipython2",
   "version": "2.7.12"
  }
 },
 "nbformat": 4,
 "nbformat_minor": 1
}
