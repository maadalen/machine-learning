{
 "cells": [
  {
   "cell_type": "code",
   "execution_count": 1,
   "metadata": {
    "collapsed": false
   },
   "outputs": [
    {
     "name": "stderr",
     "output_type": "stream",
     "text": [
      "/Users/shivakanththudi/anaconda/lib/python2.7/site-packages/sklearn/cross_validation.py:44: DeprecationWarning: This module was deprecated in version 0.18 in favor of the model_selection module into which all the refactored classes and functions are moved. Also note that the interface of the new CV iterators are different from that of this module. This module will be removed in 0.20.\n",
      "  \"This module will be removed in 0.20.\", DeprecationWarning)\n"
     ]
    }
   ],
   "source": [
    "from sklearn import tree\n",
    "import pandas as pd\n",
    "from sklearn.cross_validation import KFold\n",
    "import sklearn as sk\n",
    "import numpy as np\n",
    "import datetime as dt\n",
    "\n",
    "train_file = 'occupancy_data/datatraining.txt'\n",
    "test_file = 'occupancy_data/datatest.txt'\n",
    "\n",
    "df = pd.read_table(train_file, delimiter = ',')\n",
    "test_df = pd.read_csv(test_file, delimiter = ',')\n",
    "\n",
    "# df['date'] = df['date'].map(pd.to_datetime)\n",
    "# start = df.iloc[0,0]\n",
    "# df['date'] = df['date'].apply(lambda x: x.microsecond)"
   ]
  },
  {
   "cell_type": "code",
   "execution_count": 2,
   "metadata": {
    "collapsed": false
   },
   "outputs": [
    {
     "data": {
      "text/html": [
       "<div>\n",
       "<table border=\"1\" class=\"dataframe\">\n",
       "  <thead>\n",
       "    <tr style=\"text-align: right;\">\n",
       "      <th></th>\n",
       "      <th>date</th>\n",
       "      <th>Temperature</th>\n",
       "      <th>Humidity</th>\n",
       "      <th>Light</th>\n",
       "      <th>CO2</th>\n",
       "      <th>HumidityRatio</th>\n",
       "      <th>Occupancy</th>\n",
       "    </tr>\n",
       "  </thead>\n",
       "  <tbody>\n",
       "    <tr>\n",
       "      <th>140</th>\n",
       "      <td>2015-02-02 14:19:00</td>\n",
       "      <td>23.7000</td>\n",
       "      <td>26.272</td>\n",
       "      <td>585.200000</td>\n",
       "      <td>749.200000</td>\n",
       "      <td>0.004764</td>\n",
       "      <td>1</td>\n",
       "    </tr>\n",
       "    <tr>\n",
       "      <th>141</th>\n",
       "      <td>2015-02-02 14:19:59</td>\n",
       "      <td>23.7180</td>\n",
       "      <td>26.290</td>\n",
       "      <td>578.400000</td>\n",
       "      <td>760.400000</td>\n",
       "      <td>0.004773</td>\n",
       "      <td>1</td>\n",
       "    </tr>\n",
       "    <tr>\n",
       "      <th>142</th>\n",
       "      <td>2015-02-02 14:21:00</td>\n",
       "      <td>23.7300</td>\n",
       "      <td>26.230</td>\n",
       "      <td>572.666667</td>\n",
       "      <td>769.666667</td>\n",
       "      <td>0.004765</td>\n",
       "      <td>1</td>\n",
       "    </tr>\n",
       "    <tr>\n",
       "      <th>143</th>\n",
       "      <td>2015-02-02 14:22:00</td>\n",
       "      <td>23.7225</td>\n",
       "      <td>26.125</td>\n",
       "      <td>493.750000</td>\n",
       "      <td>774.750000</td>\n",
       "      <td>0.004744</td>\n",
       "      <td>1</td>\n",
       "    </tr>\n",
       "    <tr>\n",
       "      <th>144</th>\n",
       "      <td>2015-02-02 14:23:00</td>\n",
       "      <td>23.7540</td>\n",
       "      <td>26.200</td>\n",
       "      <td>488.600000</td>\n",
       "      <td>779.000000</td>\n",
       "      <td>0.004767</td>\n",
       "      <td>1</td>\n",
       "    </tr>\n",
       "  </tbody>\n",
       "</table>\n",
       "</div>"
      ],
      "text/plain": [
       "                    date  Temperature  Humidity       Light         CO2  \\\n",
       "140  2015-02-02 14:19:00      23.7000    26.272  585.200000  749.200000   \n",
       "141  2015-02-02 14:19:59      23.7180    26.290  578.400000  760.400000   \n",
       "142  2015-02-02 14:21:00      23.7300    26.230  572.666667  769.666667   \n",
       "143  2015-02-02 14:22:00      23.7225    26.125  493.750000  774.750000   \n",
       "144  2015-02-02 14:23:00      23.7540    26.200  488.600000  779.000000   \n",
       "\n",
       "     HumidityRatio  Occupancy  \n",
       "140       0.004764          1  \n",
       "141       0.004773          1  \n",
       "142       0.004765          1  \n",
       "143       0.004744          1  \n",
       "144       0.004767          1  "
      ]
     },
     "execution_count": 2,
     "metadata": {},
     "output_type": "execute_result"
    }
   ],
   "source": [
    "test_df.head()"
   ]
  },
  {
   "cell_type": "code",
   "execution_count": 3,
   "metadata": {
    "collapsed": false
   },
   "outputs": [
    {
     "data": {
      "text/html": [
       "<div>\n",
       "<table border=\"1\" class=\"dataframe\">\n",
       "  <thead>\n",
       "    <tr style=\"text-align: right;\">\n",
       "      <th></th>\n",
       "      <th>Temperature</th>\n",
       "      <th>Humidity</th>\n",
       "      <th>Light</th>\n",
       "      <th>CO2</th>\n",
       "      <th>HumidityRatio</th>\n",
       "    </tr>\n",
       "  </thead>\n",
       "  <tbody>\n",
       "    <tr>\n",
       "      <th>1</th>\n",
       "      <td>23.18</td>\n",
       "      <td>27.2720</td>\n",
       "      <td>426.0</td>\n",
       "      <td>721.25</td>\n",
       "      <td>0.004793</td>\n",
       "    </tr>\n",
       "    <tr>\n",
       "      <th>2</th>\n",
       "      <td>23.15</td>\n",
       "      <td>27.2675</td>\n",
       "      <td>429.5</td>\n",
       "      <td>714.00</td>\n",
       "      <td>0.004783</td>\n",
       "    </tr>\n",
       "    <tr>\n",
       "      <th>3</th>\n",
       "      <td>23.15</td>\n",
       "      <td>27.2450</td>\n",
       "      <td>426.0</td>\n",
       "      <td>713.50</td>\n",
       "      <td>0.004779</td>\n",
       "    </tr>\n",
       "    <tr>\n",
       "      <th>4</th>\n",
       "      <td>23.15</td>\n",
       "      <td>27.2000</td>\n",
       "      <td>426.0</td>\n",
       "      <td>708.25</td>\n",
       "      <td>0.004772</td>\n",
       "    </tr>\n",
       "    <tr>\n",
       "      <th>5</th>\n",
       "      <td>23.10</td>\n",
       "      <td>27.2000</td>\n",
       "      <td>426.0</td>\n",
       "      <td>704.50</td>\n",
       "      <td>0.004757</td>\n",
       "    </tr>\n",
       "  </tbody>\n",
       "</table>\n",
       "</div>"
      ],
      "text/plain": [
       "   Temperature  Humidity  Light     CO2  HumidityRatio\n",
       "1        23.18   27.2720  426.0  721.25       0.004793\n",
       "2        23.15   27.2675  429.5  714.00       0.004783\n",
       "3        23.15   27.2450  426.0  713.50       0.004779\n",
       "4        23.15   27.2000  426.0  708.25       0.004772\n",
       "5        23.10   27.2000  426.0  704.50       0.004757"
      ]
     },
     "execution_count": 3,
     "metadata": {},
     "output_type": "execute_result"
    }
   ],
   "source": [
    "X_train = df.iloc[:,1:6]\n",
    "X_test = test_df.iloc[:,1:6]\n",
    "X_train.head()"
   ]
  },
  {
   "cell_type": "code",
   "execution_count": 4,
   "metadata": {
    "collapsed": false
   },
   "outputs": [
    {
     "data": {
      "text/html": [
       "<div>\n",
       "<table border=\"1\" class=\"dataframe\">\n",
       "  <thead>\n",
       "    <tr style=\"text-align: right;\">\n",
       "      <th></th>\n",
       "      <th>Temperature</th>\n",
       "      <th>Humidity</th>\n",
       "      <th>Light</th>\n",
       "      <th>CO2</th>\n",
       "      <th>HumidityRatio</th>\n",
       "    </tr>\n",
       "  </thead>\n",
       "  <tbody>\n",
       "    <tr>\n",
       "      <th>140</th>\n",
       "      <td>23.7000</td>\n",
       "      <td>26.272</td>\n",
       "      <td>585.200000</td>\n",
       "      <td>749.200000</td>\n",
       "      <td>0.004764</td>\n",
       "    </tr>\n",
       "    <tr>\n",
       "      <th>141</th>\n",
       "      <td>23.7180</td>\n",
       "      <td>26.290</td>\n",
       "      <td>578.400000</td>\n",
       "      <td>760.400000</td>\n",
       "      <td>0.004773</td>\n",
       "    </tr>\n",
       "    <tr>\n",
       "      <th>142</th>\n",
       "      <td>23.7300</td>\n",
       "      <td>26.230</td>\n",
       "      <td>572.666667</td>\n",
       "      <td>769.666667</td>\n",
       "      <td>0.004765</td>\n",
       "    </tr>\n",
       "    <tr>\n",
       "      <th>143</th>\n",
       "      <td>23.7225</td>\n",
       "      <td>26.125</td>\n",
       "      <td>493.750000</td>\n",
       "      <td>774.750000</td>\n",
       "      <td>0.004744</td>\n",
       "    </tr>\n",
       "    <tr>\n",
       "      <th>144</th>\n",
       "      <td>23.7540</td>\n",
       "      <td>26.200</td>\n",
       "      <td>488.600000</td>\n",
       "      <td>779.000000</td>\n",
       "      <td>0.004767</td>\n",
       "    </tr>\n",
       "  </tbody>\n",
       "</table>\n",
       "</div>"
      ],
      "text/plain": [
       "     Temperature  Humidity       Light         CO2  HumidityRatio\n",
       "140      23.7000    26.272  585.200000  749.200000       0.004764\n",
       "141      23.7180    26.290  578.400000  760.400000       0.004773\n",
       "142      23.7300    26.230  572.666667  769.666667       0.004765\n",
       "143      23.7225    26.125  493.750000  774.750000       0.004744\n",
       "144      23.7540    26.200  488.600000  779.000000       0.004767"
      ]
     },
     "execution_count": 4,
     "metadata": {},
     "output_type": "execute_result"
    }
   ],
   "source": [
    "X_test.head()"
   ]
  },
  {
   "cell_type": "code",
   "execution_count": 5,
   "metadata": {
    "collapsed": true
   },
   "outputs": [],
   "source": [
    "Y_train = df.iloc[:,6:7]\n",
    "Y_test = test_df.iloc[:,6:7]"
   ]
  },
  {
   "cell_type": "code",
   "execution_count": 6,
   "metadata": {
    "collapsed": false
   },
   "outputs": [
    {
     "data": {
      "text/html": [
       "<div>\n",
       "<table border=\"1\" class=\"dataframe\">\n",
       "  <thead>\n",
       "    <tr style=\"text-align: right;\">\n",
       "      <th></th>\n",
       "      <th>Occupancy</th>\n",
       "    </tr>\n",
       "  </thead>\n",
       "  <tbody>\n",
       "    <tr>\n",
       "      <th>1</th>\n",
       "      <td>1</td>\n",
       "    </tr>\n",
       "    <tr>\n",
       "      <th>2</th>\n",
       "      <td>1</td>\n",
       "    </tr>\n",
       "    <tr>\n",
       "      <th>3</th>\n",
       "      <td>1</td>\n",
       "    </tr>\n",
       "    <tr>\n",
       "      <th>4</th>\n",
       "      <td>1</td>\n",
       "    </tr>\n",
       "    <tr>\n",
       "      <th>5</th>\n",
       "      <td>1</td>\n",
       "    </tr>\n",
       "  </tbody>\n",
       "</table>\n",
       "</div>"
      ],
      "text/plain": [
       "   Occupancy\n",
       "1          1\n",
       "2          1\n",
       "3          1\n",
       "4          1\n",
       "5          1"
      ]
     },
     "execution_count": 6,
     "metadata": {},
     "output_type": "execute_result"
    }
   ],
   "source": [
    "Y_train.head()"
   ]
  },
  {
   "cell_type": "code",
   "execution_count": 7,
   "metadata": {
    "collapsed": false
   },
   "outputs": [
    {
     "data": {
      "text/html": [
       "<div>\n",
       "<table border=\"1\" class=\"dataframe\">\n",
       "  <thead>\n",
       "    <tr style=\"text-align: right;\">\n",
       "      <th></th>\n",
       "      <th>Occupancy</th>\n",
       "    </tr>\n",
       "  </thead>\n",
       "  <tbody>\n",
       "    <tr>\n",
       "      <th>140</th>\n",
       "      <td>1</td>\n",
       "    </tr>\n",
       "    <tr>\n",
       "      <th>141</th>\n",
       "      <td>1</td>\n",
       "    </tr>\n",
       "    <tr>\n",
       "      <th>142</th>\n",
       "      <td>1</td>\n",
       "    </tr>\n",
       "    <tr>\n",
       "      <th>143</th>\n",
       "      <td>1</td>\n",
       "    </tr>\n",
       "    <tr>\n",
       "      <th>144</th>\n",
       "      <td>1</td>\n",
       "    </tr>\n",
       "  </tbody>\n",
       "</table>\n",
       "</div>"
      ],
      "text/plain": [
       "     Occupancy\n",
       "140          1\n",
       "141          1\n",
       "142          1\n",
       "143          1\n",
       "144          1"
      ]
     },
     "execution_count": 7,
     "metadata": {},
     "output_type": "execute_result"
    }
   ],
   "source": [
    "Y_test.head()"
   ]
  },
  {
   "cell_type": "code",
   "execution_count": 8,
   "metadata": {
    "collapsed": false
   },
   "outputs": [],
   "source": [
    "depth_list = range(1,20)\n",
    "MSE_list = []\n",
    "kf = KFold(len(Y_train), n_folds=10, shuffle = True, random_state  = 0)"
   ]
  },
  {
   "cell_type": "code",
   "execution_count": 9,
   "metadata": {
    "collapsed": false
   },
   "outputs": [
    {
     "name": "stdout",
     "output_type": "stream",
     "text": [
      "1 k-fold CV MSE is 0.0124030388448\n",
      "2 k-fold CV MSE is 0.0116663903167\n",
      "3 k-fold CV MSE is 0.0115432387212\n",
      "4 k-fold CV MSE is 0.0105604377384\n",
      "5 k-fold CV MSE is 0.00675374202982\n",
      "6 k-fold CV MSE is 0.00687659215267\n",
      "7 k-fold CV MSE is 0.00712229239837\n",
      "8 k-fold CV MSE is 0.00699929153917\n",
      "9 k-fold CV MSE is 0.00724499178487\n",
      "10 k-fold CV MSE is 0.00761369288977\n",
      "11 k-fold CV MSE is 0.00736814338041\n",
      "12 k-fold CV MSE is 0.00810479190847\n",
      "13 k-fold CV MSE is 0.00798209252197\n",
      "14 k-fold CV MSE is 0.00785939313547\n",
      "15 k-fold CV MSE is 0.00785939313547\n",
      "16 k-fold CV MSE is 0.00835079362687\n",
      "17 k-fold CV MSE is 0.00798239399466\n",
      "18 k-fold CV MSE is 0.00822779276767\n",
      "19 k-fold CV MSE is 0.00835064289052\n"
     ]
    }
   ],
   "source": [
    "for depth in depth_list:\n",
    "    \n",
    "    MSE_depth_CV =[]\n",
    "    \n",
    "    for train_index, test_index in kf:\n",
    "        X_train_CV, X_test_CV = X_train.iloc[train_index,:], X_train.iloc[test_index,:]\n",
    "        Y_train_CV, Y_test_CV = Y_train.iloc[train_index,:], Y_train.iloc[test_index,:]\n",
    "        clf = tree.DecisionTreeClassifier(max_depth = depth) \n",
    "        clf.fit(X_train_CV, Y_train_CV) \n",
    "        predicted_y = clf.predict(X_test_CV)\n",
    "        MSE = sk.metrics.accuracy_score(Y_test_CV, predicted_y)\n",
    "        MSE_depth_CV.append(MSE)\n",
    "    \n",
    "    print depth, \"k-fold CV MSE is\", 1 - np.mean(MSE_depth_CV)"
   ]
  },
  {
   "cell_type": "code",
   "execution_count": 10,
   "metadata": {
    "collapsed": false
   },
   "outputs": [
    {
     "data": {
      "text/html": [
       "<div>\n",
       "<table border=\"1\" class=\"dataframe\">\n",
       "  <thead>\n",
       "    <tr style=\"text-align: right;\">\n",
       "      <th></th>\n",
       "      <th>Temperature</th>\n",
       "      <th>Humidity</th>\n",
       "      <th>Light</th>\n",
       "      <th>CO2</th>\n",
       "      <th>HumidityRatio</th>\n",
       "    </tr>\n",
       "  </thead>\n",
       "  <tbody>\n",
       "    <tr>\n",
       "      <th>2</th>\n",
       "      <td>23.15</td>\n",
       "      <td>27.2675</td>\n",
       "      <td>429.5</td>\n",
       "      <td>714.00</td>\n",
       "      <td>0.004783</td>\n",
       "    </tr>\n",
       "    <tr>\n",
       "      <th>3</th>\n",
       "      <td>23.15</td>\n",
       "      <td>27.2450</td>\n",
       "      <td>426.0</td>\n",
       "      <td>713.50</td>\n",
       "      <td>0.004779</td>\n",
       "    </tr>\n",
       "    <tr>\n",
       "      <th>4</th>\n",
       "      <td>23.15</td>\n",
       "      <td>27.2000</td>\n",
       "      <td>426.0</td>\n",
       "      <td>708.25</td>\n",
       "      <td>0.004772</td>\n",
       "    </tr>\n",
       "    <tr>\n",
       "      <th>5</th>\n",
       "      <td>23.10</td>\n",
       "      <td>27.2000</td>\n",
       "      <td>426.0</td>\n",
       "      <td>704.50</td>\n",
       "      <td>0.004757</td>\n",
       "    </tr>\n",
       "    <tr>\n",
       "      <th>6</th>\n",
       "      <td>23.10</td>\n",
       "      <td>27.2000</td>\n",
       "      <td>419.0</td>\n",
       "      <td>701.00</td>\n",
       "      <td>0.004757</td>\n",
       "    </tr>\n",
       "  </tbody>\n",
       "</table>\n",
       "</div>"
      ],
      "text/plain": [
       "   Temperature  Humidity  Light     CO2  HumidityRatio\n",
       "2        23.15   27.2675  429.5  714.00       0.004783\n",
       "3        23.15   27.2450  426.0  713.50       0.004779\n",
       "4        23.15   27.2000  426.0  708.25       0.004772\n",
       "5        23.10   27.2000  426.0  704.50       0.004757\n",
       "6        23.10   27.2000  419.0  701.00       0.004757"
      ]
     },
     "execution_count": 10,
     "metadata": {},
     "output_type": "execute_result"
    }
   ],
   "source": [
    "X_train_CV.head()"
   ]
  },
  {
   "cell_type": "code",
   "execution_count": 11,
   "metadata": {
    "collapsed": true
   },
   "outputs": [],
   "source": [
    "from sklearn.ensemble import BaggingClassifier"
   ]
  },
  {
   "cell_type": "code",
   "execution_count": 12,
   "metadata": {
    "collapsed": true
   },
   "outputs": [],
   "source": [
    "n_estimators = range(1,10)"
   ]
  },
  {
   "cell_type": "code",
   "execution_count": 13,
   "metadata": {
    "collapsed": false
   },
   "outputs": [
    {
     "name": "stdout",
     "output_type": "stream",
     "text": [
      "Accuracy on testing set: 0.947\n",
      "Accuracy on testing set: 0.817\n",
      "Accuracy on testing set: 0.940\n",
      "Accuracy on testing set: 0.913\n",
      "Accuracy on testing set: 0.939\n",
      "Accuracy on testing set: 0.914\n",
      "Accuracy on testing set: 0.906\n",
      "Accuracy on testing set: 0.899\n",
      "Accuracy on testing set: 0.942\n"
     ]
    }
   ],
   "source": [
    "    for e in n_estimators:\n",
    "        \n",
    "        classifier = BaggingClassifier(n_estimators=e)\n",
    "        classifier.fit(X_train, Y_train.values.ravel())\n",
    "        predicted_y = classifier.predict(X_test)\n",
    "        # print(\"Accuracy on training set: {:.3f}\".format(classifier.score(X_train, Y_train))) \n",
    "        print(\"Accuracy on testing set: {:.3f}\".format(classifier.score(X_test, Y_test))) "
   ]
  },
  {
   "cell_type": "code",
   "execution_count": 15,
   "metadata": {
    "collapsed": false
   },
   "outputs": [
    {
     "name": "stdout",
     "output_type": "stream",
     "text": [
      "scikit-learn version: 0.18.1\n"
     ]
    }
   ],
   "source": [
    "print(\"scikit-learn version: {}\".format(sk.__version__))"
   ]
  },
  {
   "cell_type": "code",
   "execution_count": 17,
   "metadata": {
    "collapsed": false
   },
   "outputs": [
    {
     "name": "stdout",
     "output_type": "stream",
     "text": [
      "Accuracy on testing set: 0.932\n",
      "Accuracy on testing set: 0.815\n",
      "Accuracy on testing set: 0.914\n",
      "Accuracy on testing set: 0.899\n",
      "Accuracy on testing set: 0.934\n",
      "Accuracy on testing set: 0.911\n",
      "Accuracy on testing set: 0.934\n",
      "Accuracy on testing set: 0.916\n",
      "Accuracy on testing set: 0.937\n"
     ]
    }
   ],
   "source": [
    "for e in n_estimators:\n",
    "    from sklearn.ensemble import RandomForestClassifier \n",
    "    classifier = RandomForestClassifier(n_estimators=e)\n",
    "    classifier.fit(X_train, Y_train.values.ravel()) \n",
    "    print(\"Accuracy on testing set: {:.3f}\".format(classifier.score(X_test, Y_test)))\n"
   ]
  },
  {
   "cell_type": "code",
   "execution_count": 18,
   "metadata": {
    "collapsed": false
   },
   "outputs": [
    {
     "name": "stdout",
     "output_type": "stream",
     "text": [
      "Accuracy on testing set: 0.979\n",
      "Accuracy on testing set: 0.978\n",
      "Accuracy on testing set: 0.971\n"
     ]
    }
   ],
   "source": [
    "from sklearn.ensemble import AdaBoostClassifier \n",
    "rate = [0.025,0.1, 1.0]    # Learning rate; default is 1.0\n",
    "\n",
    "for r in rate:\n",
    "    classifier = AdaBoostClassifier(learning_rate=r) \n",
    "    classifier.fit(X_train, Y_train.values.ravel()) \n",
    "    print(\"Accuracy on testing set: {:.3f}\".format(classifier.score(X_test, Y_test)))\n"
   ]
  }
 ],
 "metadata": {
  "anaconda-cloud": {},
  "kernelspec": {
   "display_name": "Python [conda root]",
   "language": "python",
   "name": "conda-root-py"
  },
  "language_info": {
   "codemirror_mode": {
    "name": "ipython",
    "version": 2
   },
   "file_extension": ".py",
   "mimetype": "text/x-python",
   "name": "python",
   "nbconvert_exporter": "python",
   "pygments_lexer": "ipython2",
   "version": "2.7.12"
  }
 },
 "nbformat": 4,
 "nbformat_minor": 1
}
